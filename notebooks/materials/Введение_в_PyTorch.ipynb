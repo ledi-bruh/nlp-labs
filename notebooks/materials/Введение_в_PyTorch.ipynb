{
  "cells": [
    {
      "cell_type": "markdown",
      "metadata": {
        "id": "iGq8XUn9nANN"
      },
      "source": [
        "# Введение в PyTorch"
      ]
    },
    {
      "cell_type": "markdown",
      "metadata": {
        "id": "ma2Bl4cFpzPV"
      },
      "source": [
        "## Общие сведения"
      ]
    },
    {
      "cell_type": "markdown",
      "metadata": {
        "id": "ZdAbf_Vqp3Hj"
      },
      "source": [
        "PyTorch - фреймворк для языка Python, предназначенный для решения задач глубокого обучения."
      ]
    },
    {
      "cell_type": "markdown",
      "metadata": {
        "id": "zk390Qr_q9YY"
      },
      "source": [
        "Среди ключевых особенностей фреймворка можно выделить:\n",
        "- динамический граф вычислений (результаты вычислений доступны после выполнения каждого шага, в отличие от TensorFlow)\n",
        "- AUTOGRAD\n",
        "- простой API\n",
        "- выокая гибкость при создании сложных моделей\n",
        "- поддержка CUDA, возможность перемещения объектов между устройствами\n",
        "- модульная архитектура (изначально поставляются только базовые модули, при желании можно установить torchaudio, torchvision, torchtext и др.)"
      ]
    },
    {
      "cell_type": "markdown",
      "metadata": {
        "id": "sbmgeOgHsYqB"
      },
      "source": [
        "[Официальный сайт фреймворка](https://pytorch.org/)"
      ]
    },
    {
      "cell_type": "markdown",
      "metadata": {
        "id": "Gm-UrTqrso2b"
      },
      "source": [
        "## Установка PyTorch"
      ]
    },
    {
      "cell_type": "markdown",
      "metadata": {
        "id": "cI9ZO2OpsrSW"
      },
      "source": [
        "В Colab фреймворк уже установлен"
      ]
    },
    {
      "cell_type": "code",
      "execution_count": null,
      "metadata": {
        "colab": {
          "base_uri": "https://localhost:8080/",
          "height": 35
        },
        "id": "3p21YDxVsveR",
        "outputId": "8a96c8bf-d532-415a-d4e2-6b08ec33838d"
      },
      "outputs": [
        {
          "data": {
            "application/vnd.google.colaboratory.intrinsic+json": {
              "type": "string"
            },
            "text/plain": [
              "'2.0.1+cu118'"
            ]
          },
          "execution_count": 1,
          "metadata": {},
          "output_type": "execute_result"
        }
      ],
      "source": [
        "import torch\n",
        "\n",
        "torch.__version__"
      ]
    },
    {
      "cell_type": "markdown",
      "metadata": {
        "id": "XdQWYnjOs4mH"
      },
      "source": [
        "**Обращаю внимание:** сейчас мы будем использовать возможности CPU-версии PyTorch, однако видно, что в Colab изначально установлена CUDA-версия PyTorch для CUDA 11.8. Работая в Colab, вы можете активировать среду выполнения с GPU или TPU (на базе CUDA). В этом случае, вы будете полноценно использовать возможности CUDA-версии фреймворка PyTorch."
      ]
    },
    {
      "cell_type": "markdown",
      "metadata": {
        "id": "y-GiBnBfuD4c"
      },
      "source": [
        "При желании (и для проведения работ в виртуальном окружении) вы можете скачать нужную версию PyTorch с официального сайта, выбрав CPU или CUDA (последнюю выбираете только в том случае, если у вас GPU от NVIDIA и настроена CUDA нужной версии на ПК / ноутбуке).\n",
        "![](https://i.vgy.me/ATff4V.png)"
      ]
    },
    {
      "cell_type": "markdown",
      "metadata": {
        "id": "-aeU8npwuxtW"
      },
      "source": [
        "## Знакомство с тензорами"
      ]
    },
    {
      "cell_type": "markdown",
      "metadata": {
        "id": "nTpYD1kbu6MY"
      },
      "source": [
        "Здесь и далее под тензорами будем понимать многомерные массивы. В рамках PyTorch тензор - это абстракция над массивами numpy, которые оптимизированы для быстрого вычисления градиентов, в особенности при использовании GPU."
      ]
    },
    {
      "cell_type": "markdown",
      "metadata": {
        "id": "6phkzUo4yh6b"
      },
      "source": [
        "### Создание тензоров"
      ]
    },
    {
      "cell_type": "code",
      "execution_count": null,
      "metadata": {
        "id": "0vIimQbTsrKE"
      },
      "outputs": [],
      "source": [
        "import torch"
      ]
    },
    {
      "cell_type": "code",
      "execution_count": null,
      "metadata": {
        "colab": {
          "base_uri": "https://localhost:8080/"
        },
        "id": "bQ2rQC32m8TT",
        "outputId": "36b14957-4115-4e89-876b-c9778f475f04"
      },
      "outputs": [
        {
          "data": {
            "text/plain": [
              "(tensor([1, 2, 3]), torch.int64, torch.Size([3]))"
            ]
          },
          "execution_count": 4,
          "metadata": {},
          "output_type": "execute_result"
        }
      ],
      "source": [
        "# из списка\n",
        "a = torch.tensor([1,2,3])\n",
        "a, a.dtype, a.shape"
      ]
    },
    {
      "cell_type": "code",
      "execution_count": null,
      "metadata": {
        "colab": {
          "base_uri": "https://localhost:8080/"
        },
        "id": "DDUFZ2DHvcTv",
        "outputId": "f4af787f-96a1-4084-e989-b8af4d605d32"
      },
      "outputs": [
        {
          "data": {
            "text/plain": [
              "(tensor([1, 2, 3], dtype=torch.int16), torch.int16, torch.Size([3]))"
            ]
          },
          "execution_count": 5,
          "metadata": {},
          "output_type": "execute_result"
        }
      ],
      "source": [
        "# всегда контролируйте тип данных - нет смысла занимать больше памяти, чем это необходимо\n",
        "a = torch.tensor([1,2,3], dtype=torch.int16)\n",
        "a, a.dtype, a.shape"
      ]
    },
    {
      "cell_type": "code",
      "execution_count": null,
      "metadata": {
        "colab": {
          "base_uri": "https://localhost:8080/"
        },
        "id": "tJ6vaE5jvmPF",
        "outputId": "73528358-0a36-42f6-99f9-e2b3a7bb87eb"
      },
      "outputs": [
        {
          "data": {
            "text/plain": [
              "(tensor([1, 2, 3], dtype=torch.int32), torch.int32, torch.Size([3]))"
            ]
          },
          "execution_count": 6,
          "metadata": {},
          "output_type": "execute_result"
        }
      ],
      "source": [
        "a = torch.tensor([1,2,3]) # тип int64\n",
        "a = a.type(torch.int32) # есть еще метод type_as\n",
        "a, a.dtype, a.shape\n",
        "\n",
        "# чаще всего мы работаем с типом float32!"
      ]
    },
    {
      "cell_type": "code",
      "execution_count": null,
      "metadata": {
        "colab": {
          "base_uri": "https://localhost:8080/"
        },
        "id": "j4JyUojJwJ_I",
        "outputId": "5880f27c-cfac-4d33-c383-9b3486cbdc86"
      },
      "outputs": [
        {
          "data": {
            "text/plain": [
              "(tensor([[0.1751, 0.2341, 0.3048, 0.9674],\n",
              "         [0.3737, 0.4353, 0.2969, 0.9931],\n",
              "         [0.9485, 0.5666, 0.4486, 0.9439]]),\n",
              " torch.float32,\n",
              " torch.Size([3, 4]))"
            ]
          },
          "execution_count": 7,
          "metadata": {},
          "output_type": "execute_result"
        }
      ],
      "source": [
        "# случайные значения (равномерное распределение от 0 до 1)\n",
        "a = torch.rand(3, 4)\n",
        "a, a.dtype, a.shape"
      ]
    },
    {
      "cell_type": "code",
      "execution_count": null,
      "metadata": {
        "colab": {
          "base_uri": "https://localhost:8080/"
        },
        "id": "1VhFi86gwbxU",
        "outputId": "657e3367-0a5b-4717-987f-3fa326ae6fa4"
      },
      "outputs": [
        {
          "data": {
            "text/plain": [
              "(tensor([[ 0.8086,  0.1329, -1.4053,  0.9673],\n",
              "         [-0.7900, -0.2487,  0.9702,  0.6304],\n",
              "         [-1.6582, -0.2014,  0.6367,  1.1523]], dtype=torch.float16),\n",
              " torch.float16,\n",
              " torch.Size([3, 4]))"
            ]
          },
          "execution_count": 11,
          "metadata": {},
          "output_type": "execute_result"
        }
      ],
      "source": [
        "# случайные значения (нормальное распределение с мат ожиданием 0 и СКО 1)\n",
        "a = torch.randn(3, 4).type(torch.float16)\n",
        "a, a.dtype, a.shape"
      ]
    },
    {
      "cell_type": "code",
      "execution_count": null,
      "metadata": {
        "colab": {
          "base_uri": "https://localhost:8080/"
        },
        "id": "d7CibQhrxPmh",
        "outputId": "45870771-aedc-470d-d16b-6c89376f9d8b"
      },
      "outputs": [
        {
          "data": {
            "text/plain": [
              "(tensor([[0., 0.],\n",
              "         [0., 0.]]),\n",
              " tensor([[1., 1.],\n",
              "         [1., 1.]]))"
            ]
          },
          "execution_count": 12,
          "metadata": {},
          "output_type": "execute_result"
        }
      ],
      "source": [
        "# база\n",
        "torch.zeros(2,2), torch.ones(2,2)"
      ]
    },
    {
      "cell_type": "code",
      "execution_count": null,
      "metadata": {
        "colab": {
          "base_uri": "https://localhost:8080/"
        },
        "id": "mMkP34JUxXLr",
        "outputId": "3838df5b-54da-400b-d5b3-d80e2ba6f5b1"
      },
      "outputs": [
        {
          "name": "stdout",
          "output_type": "stream",
          "text": [
            "tensor(2.5000)\n"
          ]
        },
        {
          "data": {
            "text/plain": [
              "2.5"
            ]
          },
          "execution_count": 17,
          "metadata": {},
          "output_type": "execute_result"
        }
      ],
      "source": [
        "# получаем значение тензора (если это скаляр)\n",
        "a = torch.tensor(2.5)\n",
        "print(a)\n",
        "a.item() # это объект, который имеет dtype тензора (в данном случае, float32)"
      ]
    },
    {
      "cell_type": "markdown",
      "metadata": {
        "id": "fyvPWhUXymhf"
      },
      "source": [
        "### Арифметические операции с тензорами"
      ]
    },
    {
      "cell_type": "code",
      "execution_count": null,
      "metadata": {
        "id": "MvAKN0VQyqBU"
      },
      "outputs": [],
      "source": [
        "# с тензорами мы можем осуществлять поэлементно базовые операции;\n",
        "# при этом мы можем выполнять их как в обычном режиме, так и в режиме inplace\n",
        "# inplace предполагает, что в результате операции изменяется базовый объект\n",
        "# в обычном режиме выполнение операции создает новый объект\n",
        "# важно: все функции в pytorch для работы в режиме inplace содержат в названии подчеркивание!"
      ]
    },
    {
      "cell_type": "code",
      "execution_count": null,
      "metadata": {
        "colab": {
          "base_uri": "https://localhost:8080/"
        },
        "id": "CcHhqpMDzBXA",
        "outputId": "1a957db1-8c65-46ba-d47e-cb7419a43a94"
      },
      "outputs": [
        {
          "name": "stdout",
          "output_type": "stream",
          "text": [
            "tensor([[ 0.9660, -1.3112,  2.3562,  0.2545],\n",
            "        [-1.0575,  1.6693, -0.6841, -1.6372],\n",
            "        [-0.6592, -2.7931, -0.5935,  0.1946]])\n",
            "tensor([[-2.0982, -0.9201,  2.5359, -1.2523],\n",
            "        [-1.2687, -0.6788,  1.9266,  0.6013],\n",
            "        [-1.2975, -0.4479,  1.1966, -1.0952]])\n",
            "tensor([[-0.8673,  0.2182, -0.2197, -0.3759],\n",
            "        [-0.1228,  0.5815, -0.8109,  0.5797],\n",
            "        [-0.3122,  1.9002, -0.2699, -0.2904]])\n",
            "tensor([[ -0.3695,   5.7054, -27.2372,  -0.6622],\n",
            "        [-11.0129,   0.4218,  -0.4759,   0.4628],\n",
            "        [ -3.0653,   1.3820,  -0.3369,  -0.6982]])\n",
            "tensor([[0.3205, 1.2447, 5.9832, 0.2489],\n",
            "        [1.3527, 0.2453, 0.3859, 0.2683],\n",
            "        [0.9571, 2.6261, 0.0909, 0.2028]])\n"
          ]
        }
      ],
      "source": [
        "a = torch.randn(3, 4)\n",
        "b = torch.randn(3, 4)\n",
        "# поэлементные операции, выполняются в стандартном режиме\n",
        "print(a + b)\n",
        "print(a - b)\n",
        "print(a * b)\n",
        "print(a / b)\n",
        "print(a ** 2)"
      ]
    },
    {
      "cell_type": "code",
      "execution_count": null,
      "metadata": {
        "colab": {
          "base_uri": "https://localhost:8080/"
        },
        "id": "_OuNBryGzYpB",
        "outputId": "6366bdf1-d5ed-4766-9726-c76899c08ac7"
      },
      "outputs": [
        {
          "name": "stdout",
          "output_type": "stream",
          "text": [
            "tensor([[ 0.8110, -1.6705],\n",
            "        [-0.0861, -0.5290]])\n",
            "tensor([[0.2220, 0.4308],\n",
            "        [1.6481, 0.8973]])\n",
            "tensor([[ 1.0330, -1.2398],\n",
            "        [ 1.5620,  0.3683]])\n"
          ]
        }
      ],
      "source": [
        "# пример inplace\n",
        "a = torch.randn(2, 2)\n",
        "b = torch.randn(2, 2)\n",
        "print(a)\n",
        "print(b)\n",
        "a.add_(b)\n",
        "print(a)"
      ]
    },
    {
      "cell_type": "code",
      "execution_count": null,
      "metadata": {
        "colab": {
          "base_uri": "https://localhost:8080/"
        },
        "id": "0ysfmHhUxZud",
        "outputId": "13fe6a05-bb84-4915-969b-44e14565f124"
      },
      "outputs": [
        {
          "name": "stdout",
          "output_type": "stream",
          "text": [
            "[[0.54741987 0.14873896 0.25219111]\n",
            " [0.62257251 0.25806973 0.69351203]\n",
            " [0.37138992 0.5297617  0.82767634]]\n",
            "tensor([[0.5474, 0.1487, 0.2522],\n",
            "        [0.6226, 0.2581, 0.6935],\n",
            "        [0.3714, 0.5298, 0.8277]], dtype=torch.float64)\n",
            "tensor([[1.0948, 0.2975, 0.5044],\n",
            "        [1.2451, 0.5161, 1.3870],\n",
            "        [0.7428, 1.0595, 1.6554]], dtype=torch.float64)\n",
            "[[1.09483974 0.29747791 0.50438223]\n",
            " [1.24514503 0.51613946 1.38702406]\n",
            " [0.74277984 1.0595234  1.65535267]]\n"
          ]
        }
      ],
      "source": [
        "# перегоняем тензоры из numpy в pytorch и обратно\n",
        "import numpy as np\n",
        "\n",
        "a = np.random.rand(3,3)\n",
        "print(a)\n",
        "\n",
        "b = torch.from_numpy(a)\n",
        "print(b)\n",
        "\n",
        "# а теперь внимание!\n",
        "# если тензор находится на CPU (по умолчанию), то a и b ссылаются на один и тот же тензор\n",
        "# это имеет значение при использовании операций в режиме inplace\n",
        "\n",
        "b.add_(b)\n",
        "print(b)\n",
        "print(a)"
      ]
    },
    {
      "cell_type": "code",
      "execution_count": null,
      "metadata": {
        "colab": {
          "base_uri": "https://localhost:8080/"
        },
        "id": "tST7vZiM0A7X",
        "outputId": "ee5c739a-c941-41c3-a550-d9dedacd026f"
      },
      "outputs": [
        {
          "data": {
            "text/plain": [
              "tensor([[1.2180, 0.7380, 0.5628, 0.1988],\n",
              "        [0.8411, 0.5035, 0.6577, 0.4641]])"
            ]
          },
          "execution_count": 36,
          "metadata": {},
          "output_type": "execute_result"
        }
      ],
      "source": [
        "# еще про операции\n",
        "a,b = torch.rand(2,3), torch.rand(3,4)\n",
        "a.matmul(b)"
      ]
    },
    {
      "cell_type": "code",
      "execution_count": null,
      "metadata": {
        "colab": {
          "base_uri": "https://localhost:8080/"
        },
        "id": "34FDS48D0bqH",
        "outputId": "42d59435-ba4b-496c-dce3-85ab3225f7e5"
      },
      "outputs": [
        {
          "data": {
            "text/plain": [
              "(tensor([[0.1008, 0.8527, 0.1727],\n",
              "         [0.5631, 0.3851, 0.4886],\n",
              "         [0.0877, 0.5640, 0.4470]]),\n",
              " tensor([[0.1008, 0.5631, 0.0877],\n",
              "         [0.8527, 0.3851, 0.5640],\n",
              "         [0.1727, 0.4886, 0.4470]]))"
            ]
          },
          "execution_count": 42,
          "metadata": {},
          "output_type": "execute_result"
        }
      ],
      "source": [
        "# изменение размерностей\n",
        "a = torch.rand(4,8)\n",
        "# -1 - автоматическое определение размерности\n",
        "a.view(2, 16), a.view(-1, 4)"
      ]
    },
    {
      "cell_type": "code",
      "execution_count": null,
      "metadata": {
        "id": "y2uZYQR01FEW"
      },
      "outputs": [],
      "source": [
        "# транспонирование\n",
        "a = torch.rand(3,3)\n",
        "a, a.t()"
      ]
    },
    {
      "cell_type": "markdown",
      "metadata": {
        "id": "UiS9k3p51Ki3"
      },
      "source": [
        "## Автоматическое дифференцирование (AUTOGRAD)"
      ]
    },
    {
      "cell_type": "code",
      "execution_count": null,
      "metadata": {
        "id": "c5gnMlcB1O9d"
      },
      "outputs": [],
      "source": [
        "# по умолчанию автоматическое дифференцирование для тензоров выключено\n",
        "# чтобы его включить, установим параметр requires_grad"
      ]
    },
    {
      "cell_type": "code",
      "execution_count": null,
      "metadata": {
        "colab": {
          "base_uri": "https://localhost:8080/"
        },
        "id": "pdvghXs51WJx",
        "outputId": "7ca45a58-8904-4c0c-9b8f-933d99abc509"
      },
      "outputs": [
        {
          "data": {
            "text/plain": [
              "tensor([[ 0.8572, -1.0058, -0.2383,  0.4974],\n",
              "        [-1.8331, -0.5557,  1.5826,  0.2805],\n",
              "        [-1.2697,  1.1046,  0.4085, -0.7049]], requires_grad=True)"
            ]
          },
          "execution_count": 51,
          "metadata": {},
          "output_type": "execute_result"
        }
      ],
      "source": [
        "a = torch.randn(3, 4, requires_grad=True)\n",
        "a"
      ]
    },
    {
      "cell_type": "code",
      "execution_count": null,
      "metadata": {
        "colab": {
          "base_uri": "https://localhost:8080/"
        },
        "id": "gjOO9Emj1hdi",
        "outputId": "684239b5-5d6b-461a-802d-0136ae846ff9"
      },
      "outputs": [
        {
          "data": {
            "text/plain": [
              "tensor([[ 1.7144, -2.0116, -0.4767,  0.9947],\n",
              "        [-3.6662, -1.1114,  3.1653,  0.5611],\n",
              "        [-2.5394,  2.2091,  0.8170, -1.4098]], grad_fn=<MulBackward0>)"
            ]
          },
          "execution_count": 52,
          "metadata": {},
          "output_type": "execute_result"
        }
      ],
      "source": [
        "# выполним операцию - увидим, что у нового тензора отображается функция, позволяющая выполнить backpropagation\n",
        "b = a * 2\n",
        "b"
      ]
    },
    {
      "cell_type": "code",
      "execution_count": null,
      "metadata": {
        "colab": {
          "base_uri": "https://localhost:8080/"
        },
        "id": "05N7Wyr71wDk",
        "outputId": "a9d06d4e-c86d-4b31-e7cd-96d4a6f69aff"
      },
      "outputs": [
        {
          "data": {
            "text/plain": [
              "tensor([[2., 2., 2., 2.],\n",
              "        [2., 2., 2., 2.],\n",
              "        [2., 2., 2., 2.]])"
            ]
          },
          "execution_count": 53,
          "metadata": {},
          "output_type": "execute_result"
        }
      ],
      "source": [
        "# теперь магия\n",
        "b.backward(torch.ones_like(b))\n",
        "a.grad"
      ]
    },
    {
      "cell_type": "code",
      "execution_count": null,
      "metadata": {
        "id": "sZ3HdwAk2TbJ"
      },
      "outputs": [],
      "source": [
        "# мы только что получили таким образом db / da\n",
        "# функция backward требует передачи вспомогательного тензора в качестве параметра только в том случае,\n",
        "# когда тензор, для которого мы вычисляем градиент, не является скаляром"
      ]
    },
    {
      "cell_type": "code",
      "execution_count": null,
      "metadata": {
        "colab": {
          "base_uri": "https://localhost:8080/"
        },
        "id": "enhfppsC2nVP",
        "outputId": "fa1302b6-121b-44b2-af0a-bcfbe22c84fa"
      },
      "outputs": [
        {
          "name": "stdout",
          "output_type": "stream",
          "text": [
            "tensor([[0.6560, 0.1060],\n",
            "        [0.8513, 0.4739]], requires_grad=True)\n",
            "tensor([[1.3121, 0.2121],\n",
            "        [1.7027, 0.9477]])\n",
            "tensor([[0., 0.],\n",
            "        [0., 0.]])\n",
            "tensor([[0.3280, 0.0530],\n",
            "        [0.4257, 0.2369]])\n"
          ]
        }
      ],
      "source": [
        "# зададим x и функции y(x), g(y(x)); посчитаем градиенты\n",
        "x = torch.rand(2,2, requires_grad=True)\n",
        "print(x)\n",
        "y = x ** 2\n",
        "# давайте посчитаем dy / dx\n",
        "y.backward(torch.ones_like(y))\n",
        "print(x.grad)\n",
        "# важно: если мы начнем дальше проводить вычисления с тензором x, то градиент продолжит накапливаться;\n",
        "# допустим, мы хотим заново рассчитать градиент для функции g; нам надо занулить текущий накопленный градиент\n",
        "print(x.grad.zero_())\n",
        "y = x ** 2\n",
        "g = y.mean()\n",
        "# здесь g - скаляр, поэтому вспомогательный тензор не нужен\n",
        "g.backward()\n",
        "print(x.grad)"
      ]
    },
    {
      "cell_type": "code",
      "execution_count": null,
      "metadata": {
        "colab": {
          "base_uri": "https://localhost:8080/"
        },
        "id": "i4lHLROG4qUM",
        "outputId": "41a57384-696f-4b6b-f6cb-b56fd428ab8c"
      },
      "outputs": [
        {
          "name": "stdout",
          "output_type": "stream",
          "text": [
            "tensor([[0.4882, 0.1228, 0.1540],\n",
            "        [0.8374, 0.8887, 0.3328],\n",
            "        [0.1196, 0.5683, 0.5759]])\n",
            "tensor([0.2550, 0.6863, 0.4213]) torch.return_types.min(\n",
            "values=tensor([0.1228, 0.3328, 0.1196]),\n",
            "indices=tensor([1, 2, 0]))\n",
            "tensor([0.1228, 0.3328, 0.1196]) tensor([1, 2, 0])\n"
          ]
        }
      ],
      "source": [
        "# мог возникнуть вопрос, а как брать средние не по всему тензору, а по определенным осям\n",
        "x = torch.rand(3,3)\n",
        "print(x)\n",
        "print(torch.mean(x, axis=1), torch.min(x, axis=1))\n",
        "\n",
        "# посмотрите, как удобно\n",
        "print(torch.min(x, axis=1)[0], torch.min(x, axis=1)[1])"
      ]
    },
    {
      "cell_type": "markdown",
      "metadata": {
        "id": "_jlHHOBU5Y5m"
      },
      "source": [
        "В реальных задачах AUTOGRAD в чистом видео не используются. Используются абстрации (оптимизатор, функция потерь и модель). Мы посмотрим это далее, на реальном примере решения задачи регрессии."
      ]
    },
    {
      "cell_type": "markdown",
      "metadata": {
        "id": "cC0Fkdke5xNx"
      },
      "source": [
        "## Загрузка датасета и преобразование его в тензоры"
      ]
    },
    {
      "cell_type": "markdown",
      "metadata": {
        "id": "Zx7LBSvd6Kbt"
      },
      "source": [
        "**Напоминание:** предполагается, что данные предобработаны; все признаки являются числами; пропуски отсутствуют!"
      ]
    },
    {
      "cell_type": "markdown",
      "metadata": {
        "id": "yxd-6C6M6a2l"
      },
      "source": [
        "Будем использовать [датасет для предсказания стоимости домов](https://drive.google.com/file/d/1WQTXrH4fo_8a1TBtbub1-RuNRLKmI6w0/view?usp=sharing)"
      ]
    },
    {
      "cell_type": "code",
      "execution_count": null,
      "metadata": {
        "id": "FVjlWDSN7H_Q"
      },
      "outputs": [],
      "source": [
        "import pandas as pd"
      ]
    },
    {
      "cell_type": "code",
      "execution_count": null,
      "metadata": {
        "colab": {
          "base_uri": "https://localhost:8080/",
          "height": 522
        },
        "id": "iC3FVm8m7BGi",
        "outputId": "6f2fd72b-2caf-4c6c-d739-92f970cf511d"
      },
      "outputs": [
        {
          "data": {
            "text/html": [
              "\n",
              "\n",
              "  <div id=\"df-8948071a-4d9f-456f-a00b-3206b286b4e3\">\n",
              "    <div class=\"colab-df-container\">\n",
              "      <div>\n",
              "<style scoped>\n",
              "    .dataframe tbody tr th:only-of-type {\n",
              "        vertical-align: middle;\n",
              "    }\n",
              "\n",
              "    .dataframe tbody tr th {\n",
              "        vertical-align: top;\n",
              "    }\n",
              "\n",
              "    .dataframe thead th {\n",
              "        text-align: right;\n",
              "    }\n",
              "</style>\n",
              "<table border=\"1\" class=\"dataframe\">\n",
              "  <thead>\n",
              "    <tr style=\"text-align: right;\">\n",
              "      <th></th>\n",
              "      <th>Unnamed: 0</th>\n",
              "      <th>SalePrice</th>\n",
              "      <th>YearBuilt</th>\n",
              "      <th>YrSold</th>\n",
              "      <th>MonthSold</th>\n",
              "      <th>Size(sqf)</th>\n",
              "      <th>Floor</th>\n",
              "      <th>N_Parkinglot(Ground)</th>\n",
              "      <th>N_Parkinglot(Basement)</th>\n",
              "      <th>TimeToBusStop</th>\n",
              "      <th>...</th>\n",
              "      <th>c_management_in_trust</th>\n",
              "      <th>c_self_management</th>\n",
              "      <th>c_Bangoge</th>\n",
              "      <th>c_Banwoldang</th>\n",
              "      <th>c_Chil-sung-market</th>\n",
              "      <th>c_Daegu</th>\n",
              "      <th>c_Kyungbuk_uni_hospital</th>\n",
              "      <th>c_Myung-duk</th>\n",
              "      <th>c_Sin-nam</th>\n",
              "      <th>c_no_subway_nearby</th>\n",
              "    </tr>\n",
              "  </thead>\n",
              "  <tbody>\n",
              "    <tr>\n",
              "      <th>0</th>\n",
              "      <td>0</td>\n",
              "      <td>141592</td>\n",
              "      <td>2006</td>\n",
              "      <td>2007</td>\n",
              "      <td>8</td>\n",
              "      <td>814</td>\n",
              "      <td>3</td>\n",
              "      <td>111.0</td>\n",
              "      <td>184.0</td>\n",
              "      <td>1</td>\n",
              "      <td>...</td>\n",
              "      <td>1</td>\n",
              "      <td>0</td>\n",
              "      <td>0</td>\n",
              "      <td>0</td>\n",
              "      <td>0</td>\n",
              "      <td>0</td>\n",
              "      <td>1</td>\n",
              "      <td>0</td>\n",
              "      <td>0</td>\n",
              "      <td>0</td>\n",
              "    </tr>\n",
              "    <tr>\n",
              "      <th>1</th>\n",
              "      <td>1</td>\n",
              "      <td>51327</td>\n",
              "      <td>1985</td>\n",
              "      <td>2007</td>\n",
              "      <td>8</td>\n",
              "      <td>587</td>\n",
              "      <td>8</td>\n",
              "      <td>80.0</td>\n",
              "      <td>76.0</td>\n",
              "      <td>2</td>\n",
              "      <td>...</td>\n",
              "      <td>0</td>\n",
              "      <td>1</td>\n",
              "      <td>0</td>\n",
              "      <td>0</td>\n",
              "      <td>0</td>\n",
              "      <td>1</td>\n",
              "      <td>0</td>\n",
              "      <td>0</td>\n",
              "      <td>0</td>\n",
              "      <td>0</td>\n",
              "    </tr>\n",
              "    <tr>\n",
              "      <th>2</th>\n",
              "      <td>2</td>\n",
              "      <td>48672</td>\n",
              "      <td>1985</td>\n",
              "      <td>2007</td>\n",
              "      <td>8</td>\n",
              "      <td>587</td>\n",
              "      <td>6</td>\n",
              "      <td>80.0</td>\n",
              "      <td>76.0</td>\n",
              "      <td>2</td>\n",
              "      <td>...</td>\n",
              "      <td>0</td>\n",
              "      <td>1</td>\n",
              "      <td>0</td>\n",
              "      <td>0</td>\n",
              "      <td>0</td>\n",
              "      <td>1</td>\n",
              "      <td>0</td>\n",
              "      <td>0</td>\n",
              "      <td>0</td>\n",
              "      <td>0</td>\n",
              "    </tr>\n",
              "    <tr>\n",
              "      <th>3</th>\n",
              "      <td>3</td>\n",
              "      <td>380530</td>\n",
              "      <td>2006</td>\n",
              "      <td>2007</td>\n",
              "      <td>8</td>\n",
              "      <td>2056</td>\n",
              "      <td>8</td>\n",
              "      <td>249.0</td>\n",
              "      <td>536.0</td>\n",
              "      <td>2</td>\n",
              "      <td>...</td>\n",
              "      <td>1</td>\n",
              "      <td>0</td>\n",
              "      <td>0</td>\n",
              "      <td>0</td>\n",
              "      <td>0</td>\n",
              "      <td>0</td>\n",
              "      <td>0</td>\n",
              "      <td>0</td>\n",
              "      <td>1</td>\n",
              "      <td>0</td>\n",
              "    </tr>\n",
              "    <tr>\n",
              "      <th>4</th>\n",
              "      <td>4</td>\n",
              "      <td>221238</td>\n",
              "      <td>1993</td>\n",
              "      <td>2007</td>\n",
              "      <td>8</td>\n",
              "      <td>1761</td>\n",
              "      <td>3</td>\n",
              "      <td>523.0</td>\n",
              "      <td>536.0</td>\n",
              "      <td>2</td>\n",
              "      <td>...</td>\n",
              "      <td>1</td>\n",
              "      <td>0</td>\n",
              "      <td>0</td>\n",
              "      <td>0</td>\n",
              "      <td>0</td>\n",
              "      <td>0</td>\n",
              "      <td>0</td>\n",
              "      <td>1</td>\n",
              "      <td>0</td>\n",
              "      <td>0</td>\n",
              "    </tr>\n",
              "    <tr>\n",
              "      <th>...</th>\n",
              "      <td>...</td>\n",
              "      <td>...</td>\n",
              "      <td>...</td>\n",
              "      <td>...</td>\n",
              "      <td>...</td>\n",
              "      <td>...</td>\n",
              "      <td>...</td>\n",
              "      <td>...</td>\n",
              "      <td>...</td>\n",
              "      <td>...</td>\n",
              "      <td>...</td>\n",
              "      <td>...</td>\n",
              "      <td>...</td>\n",
              "      <td>...</td>\n",
              "      <td>...</td>\n",
              "      <td>...</td>\n",
              "      <td>...</td>\n",
              "      <td>...</td>\n",
              "      <td>...</td>\n",
              "      <td>...</td>\n",
              "      <td>...</td>\n",
              "    </tr>\n",
              "    <tr>\n",
              "      <th>5886</th>\n",
              "      <td>5886</td>\n",
              "      <td>511504</td>\n",
              "      <td>2007</td>\n",
              "      <td>2017</td>\n",
              "      <td>8</td>\n",
              "      <td>1643</td>\n",
              "      <td>19</td>\n",
              "      <td>0.0</td>\n",
              "      <td>1270.0</td>\n",
              "      <td>2</td>\n",
              "      <td>...</td>\n",
              "      <td>1</td>\n",
              "      <td>0</td>\n",
              "      <td>0</td>\n",
              "      <td>0</td>\n",
              "      <td>0</td>\n",
              "      <td>0</td>\n",
              "      <td>1</td>\n",
              "      <td>0</td>\n",
              "      <td>0</td>\n",
              "      <td>0</td>\n",
              "    </tr>\n",
              "    <tr>\n",
              "      <th>5887</th>\n",
              "      <td>5887</td>\n",
              "      <td>298230</td>\n",
              "      <td>2006</td>\n",
              "      <td>2017</td>\n",
              "      <td>8</td>\n",
              "      <td>903</td>\n",
              "      <td>13</td>\n",
              "      <td>123.0</td>\n",
              "      <td>181.0</td>\n",
              "      <td>1</td>\n",
              "      <td>...</td>\n",
              "      <td>1</td>\n",
              "      <td>0</td>\n",
              "      <td>0</td>\n",
              "      <td>0</td>\n",
              "      <td>0</td>\n",
              "      <td>0</td>\n",
              "      <td>0</td>\n",
              "      <td>1</td>\n",
              "      <td>0</td>\n",
              "      <td>0</td>\n",
              "    </tr>\n",
              "    <tr>\n",
              "      <th>5888</th>\n",
              "      <td>5888</td>\n",
              "      <td>357522</td>\n",
              "      <td>2007</td>\n",
              "      <td>2017</td>\n",
              "      <td>8</td>\n",
              "      <td>868</td>\n",
              "      <td>20</td>\n",
              "      <td>0.0</td>\n",
              "      <td>1270.0</td>\n",
              "      <td>2</td>\n",
              "      <td>...</td>\n",
              "      <td>1</td>\n",
              "      <td>0</td>\n",
              "      <td>0</td>\n",
              "      <td>0</td>\n",
              "      <td>0</td>\n",
              "      <td>0</td>\n",
              "      <td>1</td>\n",
              "      <td>0</td>\n",
              "      <td>0</td>\n",
              "      <td>0</td>\n",
              "    </tr>\n",
              "    <tr>\n",
              "      <th>5889</th>\n",
              "      <td>5889</td>\n",
              "      <td>312389</td>\n",
              "      <td>1978</td>\n",
              "      <td>2017</td>\n",
              "      <td>8</td>\n",
              "      <td>1327</td>\n",
              "      <td>1</td>\n",
              "      <td>87.0</td>\n",
              "      <td>0.0</td>\n",
              "      <td>2</td>\n",
              "      <td>...</td>\n",
              "      <td>0</td>\n",
              "      <td>1</td>\n",
              "      <td>0</td>\n",
              "      <td>0</td>\n",
              "      <td>0</td>\n",
              "      <td>0</td>\n",
              "      <td>1</td>\n",
              "      <td>0</td>\n",
              "      <td>0</td>\n",
              "      <td>0</td>\n",
              "    </tr>\n",
              "    <tr>\n",
              "      <th>5890</th>\n",
              "      <td>5890</td>\n",
              "      <td>393805</td>\n",
              "      <td>2007</td>\n",
              "      <td>2017</td>\n",
              "      <td>8</td>\n",
              "      <td>868</td>\n",
              "      <td>13</td>\n",
              "      <td>0.0</td>\n",
              "      <td>1270.0</td>\n",
              "      <td>2</td>\n",
              "      <td>...</td>\n",
              "      <td>1</td>\n",
              "      <td>0</td>\n",
              "      <td>0</td>\n",
              "      <td>0</td>\n",
              "      <td>0</td>\n",
              "      <td>0</td>\n",
              "      <td>1</td>\n",
              "      <td>0</td>\n",
              "      <td>0</td>\n",
              "      <td>0</td>\n",
              "    </tr>\n",
              "  </tbody>\n",
              "</table>\n",
              "<p>5891 rows × 42 columns</p>\n",
              "</div>\n",
              "      <button class=\"colab-df-convert\" onclick=\"convertToInteractive('df-8948071a-4d9f-456f-a00b-3206b286b4e3')\"\n",
              "              title=\"Convert this dataframe to an interactive table.\"\n",
              "              style=\"display:none;\">\n",
              "\n",
              "  <svg xmlns=\"http://www.w3.org/2000/svg\" height=\"24px\"viewBox=\"0 0 24 24\"\n",
              "       width=\"24px\">\n",
              "    <path d=\"M0 0h24v24H0V0z\" fill=\"none\"/>\n",
              "    <path d=\"M18.56 5.44l.94 2.06.94-2.06 2.06-.94-2.06-.94-.94-2.06-.94 2.06-2.06.94zm-11 1L8.5 8.5l.94-2.06 2.06-.94-2.06-.94L8.5 2.5l-.94 2.06-2.06.94zm10 10l.94 2.06.94-2.06 2.06-.94-2.06-.94-.94-2.06-.94 2.06-2.06.94z\"/><path d=\"M17.41 7.96l-1.37-1.37c-.4-.4-.92-.59-1.43-.59-.52 0-1.04.2-1.43.59L10.3 9.45l-7.72 7.72c-.78.78-.78 2.05 0 2.83L4 21.41c.39.39.9.59 1.41.59.51 0 1.02-.2 1.41-.59l7.78-7.78 2.81-2.81c.8-.78.8-2.07 0-2.86zM5.41 20L4 18.59l7.72-7.72 1.47 1.35L5.41 20z\"/>\n",
              "  </svg>\n",
              "      </button>\n",
              "\n",
              "\n",
              "\n",
              "    <div id=\"df-29b78c9f-841e-4d47-9c05-8f0815e4f565\">\n",
              "      <button class=\"colab-df-quickchart\" onclick=\"quickchart('df-29b78c9f-841e-4d47-9c05-8f0815e4f565')\"\n",
              "              title=\"Suggest charts.\"\n",
              "              style=\"display:none;\">\n",
              "\n",
              "<svg xmlns=\"http://www.w3.org/2000/svg\" height=\"24px\"viewBox=\"0 0 24 24\"\n",
              "     width=\"24px\">\n",
              "    <g>\n",
              "        <path d=\"M19 3H5c-1.1 0-2 .9-2 2v14c0 1.1.9 2 2 2h14c1.1 0 2-.9 2-2V5c0-1.1-.9-2-2-2zM9 17H7v-7h2v7zm4 0h-2V7h2v10zm4 0h-2v-4h2v4z\"/>\n",
              "    </g>\n",
              "</svg>\n",
              "      </button>\n",
              "    </div>\n",
              "\n",
              "<style>\n",
              "  .colab-df-quickchart {\n",
              "    background-color: #E8F0FE;\n",
              "    border: none;\n",
              "    border-radius: 50%;\n",
              "    cursor: pointer;\n",
              "    display: none;\n",
              "    fill: #1967D2;\n",
              "    height: 32px;\n",
              "    padding: 0 0 0 0;\n",
              "    width: 32px;\n",
              "  }\n",
              "\n",
              "  .colab-df-quickchart:hover {\n",
              "    background-color: #E2EBFA;\n",
              "    box-shadow: 0px 1px 2px rgba(60, 64, 67, 0.3), 0px 1px 3px 1px rgba(60, 64, 67, 0.15);\n",
              "    fill: #174EA6;\n",
              "  }\n",
              "\n",
              "  [theme=dark] .colab-df-quickchart {\n",
              "    background-color: #3B4455;\n",
              "    fill: #D2E3FC;\n",
              "  }\n",
              "\n",
              "  [theme=dark] .colab-df-quickchart:hover {\n",
              "    background-color: #434B5C;\n",
              "    box-shadow: 0px 1px 3px 1px rgba(0, 0, 0, 0.15);\n",
              "    filter: drop-shadow(0px 1px 2px rgba(0, 0, 0, 0.3));\n",
              "    fill: #FFFFFF;\n",
              "  }\n",
              "</style>\n",
              "\n",
              "    <script>\n",
              "      async function quickchart(key) {\n",
              "        const containerElement = document.querySelector('#' + key);\n",
              "        const charts = await google.colab.kernel.invokeFunction(\n",
              "            'suggestCharts', [key], {});\n",
              "      }\n",
              "    </script>\n",
              "\n",
              "      <script>\n",
              "\n",
              "function displayQuickchartButton(domScope) {\n",
              "  let quickchartButtonEl =\n",
              "    domScope.querySelector('#df-29b78c9f-841e-4d47-9c05-8f0815e4f565 button.colab-df-quickchart');\n",
              "  quickchartButtonEl.style.display =\n",
              "    google.colab.kernel.accessAllowed ? 'block' : 'none';\n",
              "}\n",
              "\n",
              "        displayQuickchartButton(document);\n",
              "      </script>\n",
              "      <style>\n",
              "    .colab-df-container {\n",
              "      display:flex;\n",
              "      flex-wrap:wrap;\n",
              "      gap: 12px;\n",
              "    }\n",
              "\n",
              "    .colab-df-convert {\n",
              "      background-color: #E8F0FE;\n",
              "      border: none;\n",
              "      border-radius: 50%;\n",
              "      cursor: pointer;\n",
              "      display: none;\n",
              "      fill: #1967D2;\n",
              "      height: 32px;\n",
              "      padding: 0 0 0 0;\n",
              "      width: 32px;\n",
              "    }\n",
              "\n",
              "    .colab-df-convert:hover {\n",
              "      background-color: #E2EBFA;\n",
              "      box-shadow: 0px 1px 2px rgba(60, 64, 67, 0.3), 0px 1px 3px 1px rgba(60, 64, 67, 0.15);\n",
              "      fill: #174EA6;\n",
              "    }\n",
              "\n",
              "    [theme=dark] .colab-df-convert {\n",
              "      background-color: #3B4455;\n",
              "      fill: #D2E3FC;\n",
              "    }\n",
              "\n",
              "    [theme=dark] .colab-df-convert:hover {\n",
              "      background-color: #434B5C;\n",
              "      box-shadow: 0px 1px 3px 1px rgba(0, 0, 0, 0.15);\n",
              "      filter: drop-shadow(0px 1px 2px rgba(0, 0, 0, 0.3));\n",
              "      fill: #FFFFFF;\n",
              "    }\n",
              "  </style>\n",
              "\n",
              "      <script>\n",
              "        const buttonEl =\n",
              "          document.querySelector('#df-8948071a-4d9f-456f-a00b-3206b286b4e3 button.colab-df-convert');\n",
              "        buttonEl.style.display =\n",
              "          google.colab.kernel.accessAllowed ? 'block' : 'none';\n",
              "\n",
              "        async function convertToInteractive(key) {\n",
              "          const element = document.querySelector('#df-8948071a-4d9f-456f-a00b-3206b286b4e3');\n",
              "          const dataTable =\n",
              "            await google.colab.kernel.invokeFunction('convertToInteractive',\n",
              "                                                     [key], {});\n",
              "          if (!dataTable) return;\n",
              "\n",
              "          const docLinkHtml = 'Like what you see? Visit the ' +\n",
              "            '<a target=\"_blank\" href=https://colab.research.google.com/notebooks/data_table.ipynb>data table notebook</a>'\n",
              "            + ' to learn more about interactive tables.';\n",
              "          element.innerHTML = '';\n",
              "          dataTable['output_type'] = 'display_data';\n",
              "          await google.colab.output.renderOutput(dataTable, element);\n",
              "          const docLink = document.createElement('div');\n",
              "          docLink.innerHTML = docLinkHtml;\n",
              "          element.appendChild(docLink);\n",
              "        }\n",
              "      </script>\n",
              "    </div>\n",
              "  </div>\n"
            ],
            "text/plain": [
              "      Unnamed: 0  SalePrice  YearBuilt  YrSold  MonthSold  Size(sqf)  Floor  \\\n",
              "0              0     141592       2006    2007          8        814      3   \n",
              "1              1      51327       1985    2007          8        587      8   \n",
              "2              2      48672       1985    2007          8        587      6   \n",
              "3              3     380530       2006    2007          8       2056      8   \n",
              "4              4     221238       1993    2007          8       1761      3   \n",
              "...          ...        ...        ...     ...        ...        ...    ...   \n",
              "5886        5886     511504       2007    2017          8       1643     19   \n",
              "5887        5887     298230       2006    2017          8        903     13   \n",
              "5888        5888     357522       2007    2017          8        868     20   \n",
              "5889        5889     312389       1978    2017          8       1327      1   \n",
              "5890        5890     393805       2007    2017          8        868     13   \n",
              "\n",
              "      N_Parkinglot(Ground)  N_Parkinglot(Basement)  TimeToBusStop  ...  \\\n",
              "0                    111.0                   184.0              1  ...   \n",
              "1                     80.0                    76.0              2  ...   \n",
              "2                     80.0                    76.0              2  ...   \n",
              "3                    249.0                   536.0              2  ...   \n",
              "4                    523.0                   536.0              2  ...   \n",
              "...                    ...                     ...            ...  ...   \n",
              "5886                   0.0                  1270.0              2  ...   \n",
              "5887                 123.0                   181.0              1  ...   \n",
              "5888                   0.0                  1270.0              2  ...   \n",
              "5889                  87.0                     0.0              2  ...   \n",
              "5890                   0.0                  1270.0              2  ...   \n",
              "\n",
              "      c_management_in_trust  c_self_management  c_Bangoge  c_Banwoldang  \\\n",
              "0                         1                  0          0             0   \n",
              "1                         0                  1          0             0   \n",
              "2                         0                  1          0             0   \n",
              "3                         1                  0          0             0   \n",
              "4                         1                  0          0             0   \n",
              "...                     ...                ...        ...           ...   \n",
              "5886                      1                  0          0             0   \n",
              "5887                      1                  0          0             0   \n",
              "5888                      1                  0          0             0   \n",
              "5889                      0                  1          0             0   \n",
              "5890                      1                  0          0             0   \n",
              "\n",
              "      c_Chil-sung-market  c_Daegu  c_Kyungbuk_uni_hospital  c_Myung-duk  \\\n",
              "0                      0        0                        1            0   \n",
              "1                      0        1                        0            0   \n",
              "2                      0        1                        0            0   \n",
              "3                      0        0                        0            0   \n",
              "4                      0        0                        0            1   \n",
              "...                  ...      ...                      ...          ...   \n",
              "5886                   0        0                        1            0   \n",
              "5887                   0        0                        0            1   \n",
              "5888                   0        0                        1            0   \n",
              "5889                   0        0                        1            0   \n",
              "5890                   0        0                        1            0   \n",
              "\n",
              "      c_Sin-nam  c_no_subway_nearby  \n",
              "0             0                   0  \n",
              "1             0                   0  \n",
              "2             0                   0  \n",
              "3             1                   0  \n",
              "4             0                   0  \n",
              "...         ...                 ...  \n",
              "5886          0                   0  \n",
              "5887          0                   0  \n",
              "5888          0                   0  \n",
              "5889          0                   0  \n",
              "5890          0                   0  \n",
              "\n",
              "[5891 rows x 42 columns]"
            ]
          },
          "execution_count": 72,
          "metadata": {},
          "output_type": "execute_result"
        }
      ],
      "source": [
        "data = pd.read_csv('data.csv')\n",
        "data"
      ]
    },
    {
      "cell_type": "code",
      "execution_count": null,
      "metadata": {
        "id": "6vAO_exd7Yda"
      },
      "outputs": [],
      "source": [
        "data.drop(['Unnamed: 0'], axis=1, inplace=True)"
      ]
    },
    {
      "cell_type": "code",
      "execution_count": null,
      "metadata": {
        "id": "SFGGtQyB7lT5"
      },
      "outputs": [],
      "source": [
        "# y и X - это массивы numpy\n",
        "y, X = data['SalePrice'].values, data.drop(columns=['SalePrice']).values\n",
        "\n",
        "# рекомендую всегда приводить массивы numpy к конкретной размерности (чтобы не было размерности вида (n, ))\n",
        "y = y.reshape(-1, 1)"
      ]
    },
    {
      "cell_type": "code",
      "execution_count": null,
      "metadata": {
        "id": "FJIKh5lT75ti"
      },
      "outputs": [],
      "source": [
        "from sklearn.model_selection import train_test_split"
      ]
    },
    {
      "cell_type": "code",
      "execution_count": null,
      "metadata": {
        "colab": {
          "base_uri": "https://localhost:8080/"
        },
        "id": "pDEN01gx7yOt",
        "outputId": "93ba3b91-df6d-421c-9b22-5df3175939ca"
      },
      "outputs": [
        {
          "data": {
            "text/plain": [
              "((5007, 40), (884, 40), (5007, 1), (884, 1))"
            ]
          },
          "execution_count": 172,
          "metadata": {},
          "output_type": "execute_result"
        }
      ],
      "source": [
        "# разбиваем данные\n",
        "X_train, X_test, y_train, y_test = train_test_split(X, y, test_size=0.15)\n",
        "X_train.shape, X_test.shape, y_train.shape, y_test.shape"
      ]
    },
    {
      "cell_type": "code",
      "execution_count": null,
      "metadata": {
        "id": "wDQXcgME8Tk0"
      },
      "outputs": [],
      "source": [
        "from torch.utils.data import TensorDataset, DataLoader"
      ]
    },
    {
      "cell_type": "code",
      "execution_count": null,
      "metadata": {
        "id": "o_Zkf0QG7-Za"
      },
      "outputs": [],
      "source": [
        "# а теперь преобразуем обучающую выборку в объект Dataset\n",
        "train_ds = TensorDataset(torch.from_numpy(X_train).type(torch.float32), torch.from_numpy(y_train).type(torch.float32))\n",
        "# для загрузки данных в ходе обучения мы создаем объект DataLoader на основе объекта Dataset\n",
        "train_dl = DataLoader(train_ds, batch_size=256, shuffle=True)"
      ]
    },
    {
      "cell_type": "code",
      "execution_count": null,
      "metadata": {
        "colab": {
          "base_uri": "https://localhost:8080/"
        },
        "id": "j9g7_nlE8enA",
        "outputId": "0b6e0b3f-6f7f-4a41-e55d-dbe116e77566"
      },
      "outputs": [
        {
          "data": {
            "text/plain": [
              "(torch.Size([256, 40]), torch.Size([256, 1]))"
            ]
          },
          "execution_count": 175,
          "metadata": {},
          "output_type": "execute_result"
        }
      ],
      "source": [
        "x_c, y_c = next(iter(train_dl))\n",
        "x_c.shape, y_c.shape\n",
        "# 128 - это указанный нами batch_size"
      ]
    },
    {
      "cell_type": "code",
      "execution_count": null,
      "metadata": {
        "id": "vXIDxZXp9wv1"
      },
      "outputs": [],
      "source": [
        "test_ds = TensorDataset(torch.from_numpy(X_test), torch.from_numpy(y_test))\n",
        "test_dl = DataLoader(test_ds, batch_size=256, shuffle=True)"
      ]
    },
    {
      "cell_type": "markdown",
      "metadata": {
        "id": "c_ohymWu-M-A"
      },
      "source": [
        "## Создание модели"
      ]
    },
    {
      "cell_type": "markdown",
      "metadata": {
        "id": "2dhsCNo1-Snr"
      },
      "source": [
        "Модели в PyTorch принято оформлять в виде классов, которые наследуются от базового класса nn.Module."
      ]
    },
    {
      "cell_type": "code",
      "execution_count": null,
      "metadata": {
        "id": "D-H6L5ga-e7X"
      },
      "outputs": [],
      "source": [
        "import torch.nn as nn"
      ]
    },
    {
      "cell_type": "code",
      "execution_count": null,
      "metadata": {
        "id": "SKXcOboU-bkT"
      },
      "outputs": [],
      "source": [
        "class MyRegressionModel(nn.Module):\n",
        "    # любая модель в PyTorch - это набор слоев\n",
        "    # при этом, мы сами определяем порядок их выполнения\n",
        "    # в конструкторе мы задаем набор слоев с указанием параметров\n",
        "    def __init__(self):\n",
        "        super(MyRegressionModel, self).__init__()\n",
        "        # определяем первый линейный слой (y = wx + b)\n",
        "        self.first_linear = nn.Linear(40, 120)\n",
        "        # определяем первый слой ReLU\n",
        "        self.first_relu = nn.ReLU()\n",
        "        self.second_linear = nn.Linear(120, 240)\n",
        "        self.second_relu = nn.ReLU()\n",
        "        self.third_linear = nn.Linear(240, 60)\n",
        "        self.third_relu = nn.ReLU()\n",
        "        self.fourth_linear = nn.Linear(60, 20)\n",
        "        self.fourth_relu = nn.ReLU()\n",
        "        self.fifth_linear = nn.Linear(20, 1)\n",
        "\n",
        "    # в методе forward мы определяем, как слои будут связаны друг с другом\n",
        "    def forward(self, x):\n",
        "        # y - результат выполнения первого слоя\n",
        "        y = self.first_linear(x)\n",
        "        # в теперь продолжаем накидывать оставшиеся слои\n",
        "        y = self.first_relu(y)\n",
        "        y = self.second_linear(y)\n",
        "        y = self.second_relu(y)\n",
        "        y = self.third_linear(y)\n",
        "        y = self.third_relu(y)\n",
        "        y = self.fourth_linear(y)\n",
        "        y = self.fourth_relu(y)\n",
        "        y = self.fifth_linear(y)\n",
        "        return y"
      ]
    },
    {
      "cell_type": "code",
      "execution_count": null,
      "metadata": {
        "id": "sKBFqOJs_tI2"
      },
      "outputs": [],
      "source": [
        "model = MyRegressionModel()"
      ]
    },
    {
      "cell_type": "code",
      "execution_count": null,
      "metadata": {
        "colab": {
          "base_uri": "https://localhost:8080/"
        },
        "id": "7XrmsZIHAk8w",
        "outputId": "10b7a474-be58-4739-bc3a-6dd18d03c2bb"
      },
      "outputs": [
        {
          "name": "stdout",
          "output_type": "stream",
          "text": [
            "MyRegressionModel(\n",
            "  (first_linear): Linear(in_features=40, out_features=120, bias=True)\n",
            "  (first_relu): ReLU()\n",
            "  (second_linear): Linear(in_features=120, out_features=240, bias=True)\n",
            "  (second_relu): ReLU()\n",
            "  (third_linear): Linear(in_features=240, out_features=60, bias=True)\n",
            "  (third_relu): ReLU()\n",
            "  (fourth_linear): Linear(in_features=60, out_features=20, bias=True)\n",
            "  (fourth_relu): ReLU()\n",
            "  (fifth_linear): Linear(in_features=20, out_features=1, bias=True)\n",
            ")\n"
          ]
        }
      ],
      "source": [
        "print(model)"
      ]
    },
    {
      "cell_type": "markdown",
      "metadata": {
        "id": "362ci_5sEDXW"
      },
      "source": [
        "**Важно:** модель демонстрационная! Архитектура определена без цели достижения высокого качества."
      ]
    },
    {
      "cell_type": "markdown",
      "metadata": {
        "id": "RpqHchZw_wwQ"
      },
      "source": [
        "Модель готова к использованию (граф динамический - ничего компилировать не нужно). Но прежде чем обучать модель, нам следует определить функцию потерь и настроить оптимизатор"
      ]
    },
    {
      "cell_type": "code",
      "execution_count": null,
      "metadata": {
        "id": "BkEOHXkB_9LK"
      },
      "outputs": [],
      "source": [
        "# определяем функцию потерь\n",
        "loss = nn.MSELoss()\n",
        "# настраиваем оптимизатор и передаем туда параметры модели\n",
        "optimizer = torch.optim.Adam(model.parameters(), lr=0.0025)"
      ]
    },
    {
      "cell_type": "markdown",
      "metadata": {
        "id": "8SuvktQzAKBS"
      },
      "source": [
        "Самые внимательные из вас уже догадались, что каждый из слоев модели - это абстракция над тензором с параметром requires_grad = True. А объект оптимизатора позволит нам абстрагироваться от ручной работы с AUTOGRAD."
      ]
    },
    {
      "cell_type": "code",
      "execution_count": null,
      "metadata": {
        "colab": {
          "base_uri": "https://localhost:8080/"
        },
        "id": "moW30xP4AkbJ",
        "outputId": "2736a6da-d92e-40af-8ce7-cc0471ec3cd9"
      },
      "outputs": [
        {
          "name": "stdout",
          "output_type": "stream",
          "text": [
            "Эпоха 1, Значение функции потерь: 50038280192.0\n",
            "Эпоха 2, Значение функции потерь: 11037709312.0\n",
            "Эпоха 3, Значение функции потерь: 8089636352.0\n",
            "Эпоха 4, Значение функции потерь: 7338319872.0\n",
            "Эпоха 5, Значение функции потерь: 6053208576.0\n",
            "Эпоха 6, Значение функции потерь: 6270580224.0\n",
            "Эпоха 7, Значение функции потерь: 5084550656.0\n",
            "Эпоха 8, Значение функции потерь: 5538084352.0\n",
            "Эпоха 9, Значение функции потерь: 4504658944.0\n",
            "Эпоха 10, Значение функции потерь: 4441493504.0\n",
            "Эпоха 11, Значение функции потерь: 3687614976.0\n",
            "Эпоха 12, Значение функции потерь: 4077753600.0\n",
            "Эпоха 13, Значение функции потерь: 3572656128.0\n",
            "Эпоха 14, Значение функции потерь: 3752544256.0\n",
            "Эпоха 15, Значение функции потерь: 4245116928.0\n",
            "Эпоха 16, Значение функции потерь: 3230610944.0\n",
            "Эпоха 17, Значение функции потерь: 3403735808.0\n",
            "Эпоха 18, Значение функции потерь: 4548229120.0\n",
            "Эпоха 19, Значение функции потерь: 3920899840.0\n",
            "Эпоха 20, Значение функции потерь: 4201260800.0\n",
            "Эпоха 21, Значение функции потерь: 4304622592.0\n",
            "Эпоха 22, Значение функции потерь: 3492339712.0\n",
            "Эпоха 23, Значение функции потерь: 4477896704.0\n",
            "Эпоха 24, Значение функции потерь: 3667062784.0\n",
            "Эпоха 25, Значение функции потерь: 4028313344.0\n",
            "Эпоха 26, Значение функции потерь: 3645101312.0\n",
            "Эпоха 27, Значение функции потерь: 3352978432.0\n",
            "Эпоха 28, Значение функции потерь: 3470688512.0\n",
            "Эпоха 29, Значение функции потерь: 3039580416.0\n",
            "Эпоха 30, Значение функции потерь: 2969617664.0\n",
            "Эпоха 31, Значение функции потерь: 3674833920.0\n",
            "Эпоха 32, Значение функции потерь: 3451812608.0\n",
            "Эпоха 33, Значение функции потерь: 3081316864.0\n",
            "Эпоха 34, Значение функции потерь: 3102528768.0\n",
            "Эпоха 35, Значение функции потерь: 3438159360.0\n",
            "Эпоха 36, Значение функции потерь: 2854391040.0\n",
            "Эпоха 37, Значение функции потерь: 3579021312.0\n",
            "Эпоха 38, Значение функции потерь: 3551169792.0\n",
            "Эпоха 39, Значение функции потерь: 3399788032.0\n",
            "Эпоха 40, Значение функции потерь: 3482040064.0\n",
            "Эпоха 41, Значение функции потерь: 2546699008.0\n",
            "Эпоха 42, Значение функции потерь: 3186074368.0\n",
            "Эпоха 43, Значение функции потерь: 3400229376.0\n",
            "Эпоха 44, Значение функции потерь: 3231515136.0\n",
            "Эпоха 45, Значение функции потерь: 3178864128.0\n",
            "Эпоха 46, Значение функции потерь: 2414000640.0\n",
            "Эпоха 47, Значение функции потерь: 3785263616.0\n",
            "Эпоха 48, Значение функции потерь: 2656757504.0\n",
            "Эпоха 49, Значение функции потерь: 2759137024.0\n",
            "Эпоха 50, Значение функции потерь: 2801170944.0\n"
          ]
        }
      ],
      "source": [
        "epochs = 50\n",
        "# цикл обучения (по эпохам)\n",
        "for epoch in range(epochs):\n",
        "    # за одну эпоху смотрим все батчи (по batch_size элементов)\n",
        "    for x_b, y_b in train_dl:\n",
        "        # делаем прямое распространение (получаем предсказание)\n",
        "        outputs = model(x_b)\n",
        "        # вычисляем значение функции потерь\n",
        "        loss_value = loss(outputs, y_b)\n",
        "        # делаем backward - вычисляются значения .grad у слоев модели\n",
        "        loss_value.backward()\n",
        "        # делаем шаг градиентного спуска с заданным у оптимизатора learning_rate\n",
        "        optimizer.step()\n",
        "        # зануляем .grad у слоев модели - для нового батча будем акумулировать новый .grad\n",
        "        optimizer.zero_grad()\n",
        "\n",
        "    # в конце эпохи выводим значение функции потерь для последнего рассмотренного батча\n",
        "    print(f'Эпоха {epoch + 1}, Значение функции потерь: {loss_value.item()}')"
      ]
    },
    {
      "cell_type": "code",
      "execution_count": null,
      "metadata": {
        "colab": {
          "base_uri": "https://localhost:8080/"
        },
        "id": "61-YZqPvEUi6",
        "outputId": "c4c28bd1-5e1d-463a-fad8-35e4fef88ebd"
      },
      "outputs": [
        {
          "data": {
            "text/plain": [
              "0.7385389561512032"
            ]
          },
          "execution_count": 183,
          "metadata": {},
          "output_type": "execute_result"
        }
      ],
      "source": [
        "y_pred = model(torch.from_numpy(X_test).type(torch.float32))\n",
        "\n",
        "from sklearn.metrics import r2_score\n",
        "# для преобразования тензора в массив numpy используем функцию numpy()\n",
        "# но поскольку y_pred у нас требует градиент (requires_grad), предварительно используем функцию detach()\n",
        "# она удаляет градиент\n",
        "r2_score(y_test, y_pred.detach().numpy())"
      ]
    },
    {
      "cell_type": "markdown",
      "metadata": {
        "id": "gCAZtqqoFmFf"
      },
      "source": [
        "Видим, что мы получили неплохой результат. Таким образом, с помощью PyTorch мы можем решать уже знакомые нам задачи регрессии и классификации. С решением задач классификации вы можете ознакомиться самостоятельно."
      ]
    },
    {
      "cell_type": "markdown",
      "metadata": {
        "id": "3gnFvhHr57hv"
      },
      "source": [
        "## Дополнительное задание (1 б.)"
      ]
    },
    {
      "cell_type": "markdown",
      "metadata": {
        "id": "8ZDQ1OS6570Q"
      },
      "source": [
        "Используя свой датасет для классификации из курса дисциплины \"Машинное обучение\" описать и обучить модель для классификации с помощью PyTorch. Выбрать функцию потерь. Использовать объекты TensorDataset и DataLoader."
      ]
    }
  ],
  "metadata": {
    "colab": {
      "provenance": []
    },
    "kernelspec": {
      "display_name": "Python 3",
      "name": "python3"
    },
    "language_info": {
      "name": "python",
      "version": "3.11.5"
    }
  },
  "nbformat": 4,
  "nbformat_minor": 0
}
