{
 "cells": [
  {
   "cell_type": "code",
   "execution_count": 1,
   "metadata": {},
   "outputs": [],
   "source": [
    "import torch\n",
    "import torch.nn as nn\n",
    "from torch.utils.data import TensorDataset, DataLoader\n",
    "import numpy as np\n",
    "import pandas as pd\n",
    "from sklearn.model_selection import train_test_split\n",
    "from sklearn.utils import resample"
   ]
  },
  {
   "cell_type": "code",
   "execution_count": 2,
   "metadata": {},
   "outputs": [
    {
     "data": {
      "text/plain": [
       "('11.8', True)"
      ]
     },
     "execution_count": 2,
     "metadata": {},
     "output_type": "execute_result"
    }
   ],
   "source": [
    "torch.cuda_version, torch.cuda.is_available()"
   ]
  },
  {
   "cell_type": "code",
   "execution_count": 3,
   "metadata": {},
   "outputs": [
    {
     "data": {
      "text/html": [
       "<div>\n",
       "<style scoped>\n",
       "    .dataframe tbody tr th:only-of-type {\n",
       "        vertical-align: middle;\n",
       "    }\n",
       "\n",
       "    .dataframe tbody tr th {\n",
       "        vertical-align: top;\n",
       "    }\n",
       "\n",
       "    .dataframe thead th {\n",
       "        text-align: right;\n",
       "    }\n",
       "</style>\n",
       "<table border=\"1\" class=\"dataframe\">\n",
       "  <thead>\n",
       "    <tr style=\"text-align: right;\">\n",
       "      <th></th>\n",
       "      <th>Location</th>\n",
       "      <th>MinTemp</th>\n",
       "      <th>MaxTemp</th>\n",
       "      <th>Rainfall</th>\n",
       "      <th>Evaporation</th>\n",
       "      <th>Sunshine</th>\n",
       "      <th>WindGustDir</th>\n",
       "      <th>WindGustSpeed</th>\n",
       "      <th>WindDir9am</th>\n",
       "      <th>WindDir3pm</th>\n",
       "      <th>...</th>\n",
       "      <th>Pressure9am</th>\n",
       "      <th>Pressure3pm</th>\n",
       "      <th>Cloud9am</th>\n",
       "      <th>Cloud3pm</th>\n",
       "      <th>Temp9am</th>\n",
       "      <th>Temp3pm</th>\n",
       "      <th>RainToday</th>\n",
       "      <th>RainTomorrow</th>\n",
       "      <th>Day</th>\n",
       "      <th>Month</th>\n",
       "    </tr>\n",
       "  </thead>\n",
       "  <tbody>\n",
       "    <tr>\n",
       "      <th>0</th>\n",
       "      <td>0</td>\n",
       "      <td>13.4</td>\n",
       "      <td>22.9</td>\n",
       "      <td>0.6</td>\n",
       "      <td>5.468232</td>\n",
       "      <td>7.611178</td>\n",
       "      <td>0</td>\n",
       "      <td>44.0</td>\n",
       "      <td>0</td>\n",
       "      <td>1</td>\n",
       "      <td>...</td>\n",
       "      <td>-1.478788</td>\n",
       "      <td>-1.223882</td>\n",
       "      <td>8.000000</td>\n",
       "      <td>4.50993</td>\n",
       "      <td>16.9</td>\n",
       "      <td>21.8</td>\n",
       "      <td>0</td>\n",
       "      <td>0</td>\n",
       "      <td>1</td>\n",
       "      <td>12</td>\n",
       "    </tr>\n",
       "    <tr>\n",
       "      <th>1</th>\n",
       "      <td>0</td>\n",
       "      <td>7.4</td>\n",
       "      <td>25.1</td>\n",
       "      <td>0.0</td>\n",
       "      <td>5.468232</td>\n",
       "      <td>7.611178</td>\n",
       "      <td>1</td>\n",
       "      <td>44.0</td>\n",
       "      <td>4</td>\n",
       "      <td>2</td>\n",
       "      <td>...</td>\n",
       "      <td>-1.047782</td>\n",
       "      <td>-1.118839</td>\n",
       "      <td>4.447461</td>\n",
       "      <td>4.50993</td>\n",
       "      <td>17.2</td>\n",
       "      <td>24.3</td>\n",
       "      <td>0</td>\n",
       "      <td>0</td>\n",
       "      <td>2</td>\n",
       "      <td>12</td>\n",
       "    </tr>\n",
       "  </tbody>\n",
       "</table>\n",
       "<p>2 rows × 24 columns</p>\n",
       "</div>"
      ],
      "text/plain": [
       "   Location  MinTemp  MaxTemp  Rainfall  Evaporation  Sunshine  WindGustDir  \\\n",
       "0         0     13.4     22.9       0.6     5.468232  7.611178            0   \n",
       "1         0      7.4     25.1       0.0     5.468232  7.611178            1   \n",
       "\n",
       "   WindGustSpeed  WindDir9am  WindDir3pm  ...  Pressure9am  Pressure3pm  \\\n",
       "0           44.0           0           1  ...    -1.478788    -1.223882   \n",
       "1           44.0           4           2  ...    -1.047782    -1.118839   \n",
       "\n",
       "   Cloud9am  Cloud3pm  Temp9am  Temp3pm  RainToday  RainTomorrow  Day  Month  \n",
       "0  8.000000   4.50993     16.9     21.8          0             0    1     12  \n",
       "1  4.447461   4.50993     17.2     24.3          0             0    2     12  \n",
       "\n",
       "[2 rows x 24 columns]"
      ]
     },
     "execution_count": 3,
     "metadata": {},
     "output_type": "execute_result"
    }
   ],
   "source": [
    "rain = pd.read_csv('./rain_preprocessed.csv', sep=';')\n",
    "rain.head(2)"
   ]
  },
  {
   "cell_type": "code",
   "execution_count": 4,
   "metadata": {},
   "outputs": [
    {
     "name": "stdout",
     "output_type": "stream",
     "text": [
      "RainTomorrow\n",
      "0    113583\n",
      "1     31877\n",
      "Name: count, dtype: int64\n",
      "RainTomorrow\n",
      "1    31877\n",
      "0    31877\n",
      "Name: count, dtype: int64\n",
      "(63754, 23) (63754,)\n"
     ]
    }
   ],
   "source": [
    "print(rain['RainTomorrow'].value_counts())\n",
    "\n",
    "rain0 = rain[rain['RainTomorrow'] == 0]\n",
    "rain1 = rain[rain['RainTomorrow'] == 1]\n",
    "\n",
    "rain0 = resample(rain0,\n",
    "                 replace=False,\n",
    "                 n_samples=len(rain1),\n",
    "                 random_state=73)\n",
    "\n",
    "rain = pd.concat([rain1, rain0])\n",
    "print(rain['RainTomorrow'].value_counts())\n",
    "\n",
    "X_rain = rain.drop(columns=['RainTomorrow'])\n",
    "y_rain = rain['RainTomorrow']\n",
    "print(X_rain.shape, y_rain.shape)\n",
    "\n",
    "X_rain_train, X_rain_test, y_rain_train, y_rain_test = train_test_split(X_rain, y_rain, test_size=0.33)"
   ]
  },
  {
   "cell_type": "code",
   "execution_count": 5,
   "metadata": {},
   "outputs": [],
   "source": [
    "class MyClassificationModel(nn.Module):\n",
    "    def __init__(self):\n",
    "        super(MyClassificationModel, self).__init__()\n",
    "\n",
    "        self.seq = nn.Sequential(\n",
    "            nn.Linear(23, 8),\n",
    "            nn.Mish(),\n",
    "            nn.Linear(8, 2),\n",
    "            nn.Softmax(),\n",
    "        )\n",
    "\n",
    "    def forward(self, x):\n",
    "        y = self.seq(x)\n",
    "        return y"
   ]
  },
  {
   "cell_type": "code",
   "execution_count": 37,
   "metadata": {},
   "outputs": [
    {
     "name": "stdout",
     "output_type": "stream",
     "text": [
      "MyClassificationModel(\n",
      "  (seq): Sequential(\n",
      "    (0): Linear(in_features=23, out_features=8, bias=True)\n",
      "    (1): Mish()\n",
      "    (2): Linear(in_features=8, out_features=2, bias=True)\n",
      "    (3): Softmax(dim=None)\n",
      "  )\n",
      ")\n"
     ]
    }
   ],
   "source": [
    "torch.manual_seed(73)\n",
    "model = MyClassificationModel()#.to(device=torch.device('cuda'))\n",
    "print(model)"
   ]
  },
  {
   "cell_type": "code",
   "execution_count": 27,
   "metadata": {},
   "outputs": [
    {
     "data": {
      "text/plain": [
       "False"
      ]
     },
     "execution_count": 27,
     "metadata": {},
     "output_type": "execute_result"
    }
   ],
   "source": [
    "all(param.is_cuda for param in model.parameters())"
   ]
  },
  {
   "cell_type": "code",
   "execution_count": 38,
   "metadata": {},
   "outputs": [
    {
     "data": {
      "text/plain": [
       "True"
      ]
     },
     "execution_count": 38,
     "metadata": {},
     "output_type": "execute_result"
    }
   ],
   "source": [
    "model = model.cuda()\n",
    "all(param.is_cuda for param in model.parameters())"
   ]
  },
  {
   "cell_type": "code",
   "execution_count": 33,
   "metadata": {},
   "outputs": [
    {
     "data": {
      "text/plain": [
       "(21314048, 44040192)"
      ]
     },
     "execution_count": 33,
     "metadata": {},
     "output_type": "execute_result"
    }
   ],
   "source": [
    "torch.cuda.memory_allocated(), torch.cuda.memory_reserved()"
   ]
  },
  {
   "cell_type": "code",
   "execution_count": 39,
   "metadata": {},
   "outputs": [],
   "source": [
    "loss = nn.CrossEntropyLoss()\n",
    "optimizer = torch.optim.Adam(model.parameters(), lr=0.001)"
   ]
  },
  {
   "cell_type": "code",
   "execution_count": 40,
   "metadata": {},
   "outputs": [],
   "source": [
    "# X = torch.from_numpy(np.array(X_rain_train)).float()\n",
    "# y = torch.from_numpy(np.array(y_rain_train)).long()\n",
    "\n",
    "X = torch.FloatTensor(np.array(X_rain_train)).cuda()\n",
    "y = torch.LongTensor(np.array(y_rain_train)).cuda()\n",
    "\n",
    "train_ds = TensorDataset(X, y)\n",
    "train_dl = DataLoader(train_ds, batch_size=1024, shuffle=True)"
   ]
  },
  {
   "cell_type": "code",
   "execution_count": 41,
   "metadata": {},
   "outputs": [
    {
     "name": "stdout",
     "output_type": "stream",
     "text": [
      "Эпоха 1, Значение функции потерь: 0.645328938961029\n",
      "[INFO] Training time: 0.7820000000065193 seconds.\n",
      "\n",
      "Эпоха 2, Значение функции потерь: 0.601635217666626\n",
      "[INFO] Training time: 1.3599999999860302 seconds.\n",
      "\n",
      "Эпоха 3, Значение функции потерь: 0.5944720506668091\n",
      "[INFO] Training time: 2.0 seconds.\n",
      "\n",
      "Эпоха 4, Значение функции потерь: 0.5665609240531921\n",
      "[INFO] Training time: 2.5789999999979045 seconds.\n",
      "\n",
      "Эпоха 5, Значение функции потерь: 0.5458889603614807\n",
      "[INFO] Training time: 3.2969999999913853 seconds.\n",
      "\n",
      "Эпоха 6, Значение функции потерь: 0.544800877571106\n",
      "[INFO] Training time: 3.9070000000065193 seconds.\n",
      "\n",
      "Эпоха 7, Значение функции потерь: 0.56392502784729\n",
      "[INFO] Training time: 4.562999999994645 seconds.\n",
      "\n",
      "Эпоха 8, Значение функции потерь: 0.5553288459777832\n",
      "[INFO] Training time: 5.157000000006519 seconds.\n",
      "\n",
      "Эпоха 9, Значение функции потерь: 0.5135165452957153\n",
      "[INFO] Training time: 5.812999999994645 seconds.\n",
      "\n"
     ]
    }
   ],
   "source": [
    "import time\n",
    "epochs = 9\n",
    "\n",
    "training_time = 0\n",
    "for epoch in range(epochs):\n",
    "    s = time.monotonic()\n",
    "    for x_b, y_b in train_dl:\n",
    "        outputs = model(x_b)\n",
    "        loss_value = loss(outputs, y_b)\n",
    "        \n",
    "        optimizer.zero_grad()\n",
    "        loss_value.backward()\n",
    "        optimizer.step()\n",
    "    training_time += time.monotonic() - s\n",
    "\n",
    "    print(f'Эпоха {epoch + 1}, Значение функции потерь: {loss_value.item()}')\n",
    "    print(f'[INFO] Training time: {training_time} seconds.\\n')"
   ]
  },
  {
   "cell_type": "code",
   "execution_count": 42,
   "metadata": {},
   "outputs": [],
   "source": [
    "X_test = torch.FloatTensor(np.array(X_rain_test)).cuda()\n",
    "y_test = torch.LongTensor(np.array(y_rain_test)).cuda()\n",
    "\n",
    "y_pred = model(X_test)"
   ]
  },
  {
   "cell_type": "code",
   "execution_count": 43,
   "metadata": {},
   "outputs": [
    {
     "data": {
      "text/plain": [
       "tensor([[1.0869e-05, 9.9999e-01],\n",
       "        [1.2542e-01, 8.7458e-01],\n",
       "        [6.7592e-04, 9.9932e-01],\n",
       "        ...,\n",
       "        [9.2169e-01, 7.8315e-02],\n",
       "        [1.6521e-02, 9.8348e-01],\n",
       "        [4.6294e-01, 5.3706e-01]], device='cuda:0', grad_fn=<SoftmaxBackward0>)"
      ]
     },
     "execution_count": 43,
     "metadata": {},
     "output_type": "execute_result"
    }
   ],
   "source": [
    "y_pred"
   ]
  },
  {
   "cell_type": "code",
   "execution_count": 44,
   "metadata": {},
   "outputs": [
    {
     "name": "stdout",
     "output_type": "stream",
     "text": [
      "              precision    recall  f1-score   support\n",
      "\n",
      "           0       0.76      0.75      0.76     10589\n",
      "           1       0.75      0.75      0.75     10450\n",
      "\n",
      "    accuracy                           0.75     21039\n",
      "   macro avg       0.75      0.75      0.75     21039\n",
      "weighted avg       0.75      0.75      0.75     21039\n",
      "\n"
     ]
    }
   ],
   "source": [
    "from sklearn.metrics import classification_report\n",
    "\n",
    "\n",
    "print(classification_report(\n",
    "    np.argmax(y_pred.cpu().detach().numpy(), axis=1),\n",
    "    y_rain_test,\n",
    "))"
   ]
  },
  {
   "cell_type": "code",
   "execution_count": null,
   "metadata": {},
   "outputs": [],
   "source": []
  }
 ],
 "metadata": {
  "kernelspec": {
   "display_name": "venv",
   "language": "python",
   "name": "python3"
  },
  "language_info": {
   "codemirror_mode": {
    "name": "ipython",
    "version": 3
   },
   "file_extension": ".py",
   "mimetype": "text/x-python",
   "name": "python",
   "nbconvert_exporter": "python",
   "pygments_lexer": "ipython3",
   "version": "3.11.5"
  },
  "orig_nbformat": 4
 },
 "nbformat": 4,
 "nbformat_minor": 2
}
