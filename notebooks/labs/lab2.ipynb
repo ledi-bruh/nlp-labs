{
 "cells": [
  {
   "cell_type": "code",
   "execution_count": 74,
   "metadata": {},
   "outputs": [
    {
     "name": "stderr",
     "output_type": "stream",
     "text": [
      "[nltk_data] Downloading package punkt to\n",
      "[nltk_data]     C:\\Users\\podov\\AppData\\Roaming\\nltk_data...\n",
      "[nltk_data]   Package punkt is already up-to-date!\n",
      "[nltk_data] Downloading package stopwords to\n",
      "[nltk_data]     C:\\Users\\podov\\AppData\\Roaming\\nltk_data...\n",
      "[nltk_data]   Package stopwords is already up-to-date!\n"
     ]
    }
   ],
   "source": [
    "import typing as t\n",
    "import numpy as np\n",
    "import pandas as pd\n",
    "import re\n",
    "import nltk\n",
    "from nltk.tokenize import word_tokenize\n",
    "from pymorphy3 import MorphAnalyzer\n",
    "\n",
    "nltk.download('punkt')\n",
    "nltk.download('stopwords')\n",
    "\n",
    "from nltk.corpus import stopwords"
   ]
  },
  {
   "cell_type": "code",
   "execution_count": 75,
   "metadata": {},
   "outputs": [
    {
     "data": {
      "text/html": [
       "<div>\n",
       "<style scoped>\n",
       "    .dataframe tbody tr th:only-of-type {\n",
       "        vertical-align: middle;\n",
       "    }\n",
       "\n",
       "    .dataframe tbody tr th {\n",
       "        vertical-align: top;\n",
       "    }\n",
       "\n",
       "    .dataframe thead th {\n",
       "        text-align: right;\n",
       "    }\n",
       "</style>\n",
       "<table border=\"1\" class=\"dataframe\">\n",
       "  <thead>\n",
       "    <tr style=\"text-align: right;\">\n",
       "      <th></th>\n",
       "      <th>id</th>\n",
       "      <th>public_petition_text</th>\n",
       "      <th>reason_category</th>\n",
       "    </tr>\n",
       "  </thead>\n",
       "  <tbody>\n",
       "    <tr>\n",
       "      <th>0</th>\n",
       "      <td>3168490</td>\n",
       "      <td>снег на дороге</td>\n",
       "      <td>Благоустройство</td>\n",
       "    </tr>\n",
       "    <tr>\n",
       "      <th>1</th>\n",
       "      <td>3219678</td>\n",
       "      <td>очистить кабельный киоск от рекламы</td>\n",
       "      <td>Благоустройство</td>\n",
       "    </tr>\n",
       "    <tr>\n",
       "      <th>2</th>\n",
       "      <td>2963920</td>\n",
       "      <td>Просим убрать все деревья и кустарники, которы...</td>\n",
       "      <td>Благоустройство</td>\n",
       "    </tr>\n",
       "    <tr>\n",
       "      <th>3</th>\n",
       "      <td>3374910</td>\n",
       "      <td>Неудовлетворительное состояние парадной - надп...</td>\n",
       "      <td>Содержание МКД</td>\n",
       "    </tr>\n",
       "    <tr>\n",
       "      <th>4</th>\n",
       "      <td>3336285</td>\n",
       "      <td>Граффити</td>\n",
       "      <td>Благоустройство</td>\n",
       "    </tr>\n",
       "    <tr>\n",
       "      <th>...</th>\n",
       "      <td>...</td>\n",
       "      <td>...</td>\n",
       "      <td>...</td>\n",
       "    </tr>\n",
       "    <tr>\n",
       "      <th>59884</th>\n",
       "      <td>3128111</td>\n",
       "      <td>прошу закрасить граффити</td>\n",
       "      <td>Благоустройство</td>\n",
       "    </tr>\n",
       "    <tr>\n",
       "      <th>59885</th>\n",
       "      <td>3276713</td>\n",
       "      <td>Прошу вас отремонтировать пешеходную дорожку</td>\n",
       "      <td>Благоустройство</td>\n",
       "    </tr>\n",
       "    <tr>\n",
       "      <th>59886</th>\n",
       "      <td>3274663</td>\n",
       "      <td>Необходимо демонтировать незаконную рекламную ...</td>\n",
       "      <td>Незаконная информационная и (или) рекламная ко...</td>\n",
       "    </tr>\n",
       "    <tr>\n",
       "      <th>59887</th>\n",
       "      <td>3359308</td>\n",
       "      <td>Очень гремит на ветру металлическая часть окна...</td>\n",
       "      <td>Кровля</td>\n",
       "    </tr>\n",
       "    <tr>\n",
       "      <th>59888</th>\n",
       "      <td>3209098</td>\n",
       "      <td>Две проблемы в одном:\\n1) Незаконные надписи/о...</td>\n",
       "      <td>Благоустройство</td>\n",
       "    </tr>\n",
       "  </tbody>\n",
       "</table>\n",
       "<p>59889 rows × 3 columns</p>\n",
       "</div>"
      ],
      "text/plain": [
       "            id                               public_petition_text  \\\n",
       "0      3168490                                     снег на дороге   \n",
       "1      3219678                очистить кабельный киоск от рекламы   \n",
       "2      2963920  Просим убрать все деревья и кустарники, которы...   \n",
       "3      3374910  Неудовлетворительное состояние парадной - надп...   \n",
       "4      3336285                                           Граффити   \n",
       "...        ...                                                ...   \n",
       "59884  3128111                           прошу закрасить граффити   \n",
       "59885  3276713       Прошу вас отремонтировать пешеходную дорожку   \n",
       "59886  3274663  Необходимо демонтировать незаконную рекламную ...   \n",
       "59887  3359308  Очень гремит на ветру металлическая часть окна...   \n",
       "59888  3209098  Две проблемы в одном:\\n1) Незаконные надписи/о...   \n",
       "\n",
       "                                         reason_category  \n",
       "0                                        Благоустройство  \n",
       "1                                        Благоустройство  \n",
       "2                                        Благоустройство  \n",
       "3                                         Содержание МКД  \n",
       "4                                        Благоустройство  \n",
       "...                                                  ...  \n",
       "59884                                    Благоустройство  \n",
       "59885                                    Благоустройство  \n",
       "59886  Незаконная информационная и (или) рекламная ко...  \n",
       "59887                                             Кровля  \n",
       "59888                                    Благоустройство  \n",
       "\n",
       "[59889 rows x 3 columns]"
      ]
     },
     "execution_count": 75,
     "metadata": {},
     "output_type": "execute_result"
    }
   ],
   "source": [
    "df = pd.read_csv('../storage/Petitions.csv', encoding='utf-8', sep=',')\n",
    "df"
   ]
  },
  {
   "cell_type": "code",
   "execution_count": 76,
   "metadata": {},
   "outputs": [
    {
     "data": {
      "text/html": [
       "<div>\n",
       "<style scoped>\n",
       "    .dataframe tbody tr th:only-of-type {\n",
       "        vertical-align: middle;\n",
       "    }\n",
       "\n",
       "    .dataframe tbody tr th {\n",
       "        vertical-align: top;\n",
       "    }\n",
       "\n",
       "    .dataframe thead th {\n",
       "        text-align: right;\n",
       "    }\n",
       "</style>\n",
       "<table border=\"1\" class=\"dataframe\">\n",
       "  <thead>\n",
       "    <tr style=\"text-align: right;\">\n",
       "      <th></th>\n",
       "      <th>public_petition_text</th>\n",
       "      <th>reason_category</th>\n",
       "    </tr>\n",
       "  </thead>\n",
       "  <tbody>\n",
       "    <tr>\n",
       "      <th>0</th>\n",
       "      <td>снег на дороге</td>\n",
       "      <td>Благоустройство</td>\n",
       "    </tr>\n",
       "    <tr>\n",
       "      <th>1</th>\n",
       "      <td>очистить кабельный киоск от рекламы</td>\n",
       "      <td>Благоустройство</td>\n",
       "    </tr>\n",
       "  </tbody>\n",
       "</table>\n",
       "</div>"
      ],
      "text/plain": [
       "                  public_petition_text  reason_category\n",
       "0                       снег на дороге  Благоустройство\n",
       "1  очистить кабельный киоск от рекламы  Благоустройство"
      ]
     },
     "execution_count": 76,
     "metadata": {},
     "output_type": "execute_result"
    }
   ],
   "source": [
    "df.drop(columns=['id'], inplace=True)\n",
    "df[:2]"
   ]
  },
  {
   "cell_type": "code",
   "execution_count": 80,
   "metadata": {},
   "outputs": [],
   "source": [
    "corpus, ys = df['public_petition_text'].to_list(), df['reason_category'].to_list()"
   ]
  },
  {
   "cell_type": "code",
   "execution_count": 81,
   "metadata": {},
   "outputs": [],
   "source": [
    "corpus, ys = corpus[:30000], ys[:30000]"
   ]
  },
  {
   "cell_type": "code",
   "execution_count": 82,
   "metadata": {},
   "outputs": [],
   "source": [
    "def apply_re(pattern: str, reply_on: str, corpus: t.Sequence[str]) -> t.MutableSequence[str]:\n",
    "    return list(map(lambda x: re.sub(pattern, reply_on, x), corpus))"
   ]
  },
  {
   "cell_type": "code",
   "execution_count": 83,
   "metadata": {},
   "outputs": [
    {
     "data": {
      "text/plain": [
       "['снег на дороге',\n",
       " 'очистить кабельный киоск от рекламы',\n",
       " 'Просим убрать все деревья кустарники которые вышли за пределы газона на пешеходную зону начиная от подъезда до подъезда фасад дома со стороны улица Наличной ',\n",
       " 'Неудовлетворительное состояние парадной надписи на двери этажа',\n",
       " 'Граффити',\n",
       " 'Необходимо проверить законность установки вывески на фасаде МКД по адресу проспект Непокоренных случае если вывеска установлена незаконно ее необходимо демонтировать',\n",
       " 'Уборка не производится на лестнице очень грязно На всех этажах вплоть до го Звонок ЖКС не дал результатов ',\n",
       " 'Мусор',\n",
       " 'Отсутствует освещение на лестничной площадке между и этажами парадной ',\n",
       " 'Зачем было делать благоустройство если никто не убирает мусор так ежедневно ',\n",
       " 'Просьба закрасить',\n",
       " 'Реклама на заборе ',\n",
       " 'Снег тротуаре не убран',\n",
       " 'Проблема регулярным вывозом мусора',\n",
       " 'Рисунки',\n",
       " 'Пожалуйста удалите бетонный обрубок ржавой арматурой газона перед домом Адрес улица Тухачевского дом корпус ',\n",
       " 'Мусор на асфальте',\n",
       " 'Ланское шоссе дом к парадная поврежден почтовый ящик прошу заменить',\n",
       " 'Криво висят просьба поправить подьезд этаж',\n",
       " 'Плохая уборка улицы Мусор на тротуаре газоне прямо офиса муниципалов ',\n",
       " 'Надписи на заборе ',\n",
       " 'уберите',\n",
       " 'Частично разрушено ограждение контейнерной площадки ',\n",
       " 'После демонтажа рекламных вывесок на фасаде образовались повреждения Требуется произвести работы по качественному восстановлению штукатурно окрасочного слоя соответствуя колерной палитре предварительно подготовив поверхности оштукатурить удалить грязь неровности Фотофиксация прилагается ',\n",
       " 'Надписи на стене ']"
      ]
     },
     "execution_count": 83,
     "metadata": {},
     "output_type": "execute_result"
    }
   ],
   "source": [
    "corpus = apply_re('(<[^>]+>|\\s)', ' ', corpus)\n",
    "corpus = apply_re('ё', 'е', corpus)\n",
    "corpus = apply_re(' ул(?=[\\.\\d ])', ' улица ', corpus)\n",
    "corpus = apply_re(' (д|дом)(?=[\\.\\d ])', ' дом ', corpus)\n",
    "corpus = apply_re(' (к|корп|корпус|кор)(?=[\\.\\d ])', ' корпус ', corpus)\n",
    "corpus = apply_re(' (к|кв)(?=[\\.\\d])', ' квартира ', corpus)\n",
    "corpus = apply_re('[^{а-яА-Яa-zA-Z0-9}]', ' ', corpus)\n",
    "corpus = apply_re('(\\d|( . ))', ' ', corpus)\n",
    "corpus = apply_re('\\s+', ' ', corpus)\n",
    "\n",
    "corpus[:25]"
   ]
  },
  {
   "cell_type": "code",
   "execution_count": 84,
   "metadata": {},
   "outputs": [
    {
     "data": {
      "text/plain": [
       "[['снег', 'дорога'],\n",
       " ['очистить', 'кабельный', 'киоск', 'реклама'],\n",
       " ['просить',\n",
       "  'убрать',\n",
       "  'всё',\n",
       "  'дерево',\n",
       "  'кустарник',\n",
       "  'который',\n",
       "  'выйти',\n",
       "  'предел',\n",
       "  'газон',\n",
       "  'пешеходный',\n",
       "  'зона',\n",
       "  'начинать',\n",
       "  'подъезд',\n",
       "  'подъезд',\n",
       "  'фасад',\n",
       "  'дом',\n",
       "  'сторона',\n",
       "  'улица',\n",
       "  'наличный'],\n",
       " ['неудовлетворительный', 'состояние', 'парадный', 'надпись', 'дверь', 'этаж'],\n",
       " ['граффити']]"
      ]
     },
     "execution_count": 84,
     "metadata": {},
     "output_type": "execute_result"
    }
   ],
   "source": [
    "morph = MorphAnalyzer()\n",
    "stop_words = stopwords.words('russian')\n",
    "\n",
    "corpus = [\n",
    "    [\n",
    "        word_norm for word in word_tokenize(doc, language='russian')\n",
    "        if (word_norm := morph.normal_forms(word)[0]) not in stop_words\n",
    "    ] for doc in corpus\n",
    "]\n",
    "# corpus = [\n",
    "#     [\n",
    "#         word for word in word_tokenize(doc, language='russian')\n",
    "#     ] for doc in corpus\n",
    "# ]\n",
    "\n",
    "corpus[:5]"
   ]
  },
  {
   "cell_type": "code",
   "execution_count": 85,
   "metadata": {},
   "outputs": [
    {
     "data": {
      "text/plain": [
       "(12548, 15)"
      ]
     },
     "execution_count": 85,
     "metadata": {},
     "output_type": "execute_result"
    }
   ],
   "source": [
    "idx2word = dict(enumerate(set().union(*corpus)))\n",
    "word2idx = {v: k for k, v in idx2word.items()}\n",
    "\n",
    "y2idx = dict(zip((y_uniq := set(ys)), range(len(y_uniq))))\n",
    "\n",
    "voc_len = len(idx2word)\n",
    "y_voc_len = len(y2idx)\n",
    "voc_len, y_voc_len"
   ]
  },
  {
   "cell_type": "code",
   "execution_count": 9,
   "metadata": {},
   "outputs": [
    {
     "data": {
      "text/plain": [
       "{'Подвалы': 0,\n",
       " 'Водоснабжение': 1,\n",
       " 'Повреждения или неисправность элементов уличной инфраструктуры': 2,\n",
       " 'Нарушение порядка пользования общим имуществом': 3,\n",
       " 'Состояние рекламных или информационных конструкций': 4,\n",
       " 'Нарушение правил пользования общим имуществом': 5,\n",
       " 'Содержание МКД': 6,\n",
       " 'Центральное отопление': 7,\n",
       " 'Водоотведение': 8,\n",
       " 'Кровля': 9,\n",
       " 'Незаконная информационная и (или) рекламная конструкция': 10,\n",
       " 'Санитарное состояние': 11,\n",
       " 'Незаконная реализация товаров с торгового оборудования (прилавок, ящик, с земли)': 12,\n",
       " 'Фасад': 13,\n",
       " 'Благоустройство': 14}"
      ]
     },
     "execution_count": 9,
     "metadata": {},
     "output_type": "execute_result"
    }
   ],
   "source": [
    "y2idx"
   ]
  },
  {
   "cell_type": "code",
   "execution_count": 86,
   "metadata": {},
   "outputs": [
    {
     "data": {
      "text/plain": [
       "([3778, 9061, 12437, 1989, 131, 5042], 'Содержание МКД')"
      ]
     },
     "execution_count": 86,
     "metadata": {},
     "output_type": "execute_result"
    }
   ],
   "source": [
    "X_ = [[word2idx[word] for word in doc] for doc in corpus]\n",
    "X_[3], ys[3]"
   ]
  },
  {
   "cell_type": "code",
   "execution_count": 87,
   "metadata": {},
   "outputs": [
    {
     "data": {
      "text/plain": [
       "[14, 14, 14, 6, 14]"
      ]
     },
     "execution_count": 87,
     "metadata": {},
     "output_type": "execute_result"
    }
   ],
   "source": [
    "y_ = list(y2idx[_] for _ in ys)\n",
    "y_[:5]"
   ]
  },
  {
   "cell_type": "code",
   "execution_count": 50,
   "metadata": {},
   "outputs": [],
   "source": [
    "from sklearn.model_selection import train_test_split"
   ]
  },
  {
   "cell_type": "code",
   "execution_count": 88,
   "metadata": {},
   "outputs": [
    {
     "data": {
      "text/plain": [
       "{0: 120,\n",
       " 1: 419,\n",
       " 2: 606,\n",
       " 3: 117,\n",
       " 4: 338,\n",
       " 5: 1060,\n",
       " 6: 7187,\n",
       " 7: 138,\n",
       " 8: 122,\n",
       " 9: 393,\n",
       " 10: 911,\n",
       " 11: 222,\n",
       " 12: 131,\n",
       " 13: 775,\n",
       " 14: 17461}"
      ]
     },
     "execution_count": 88,
     "metadata": {},
     "output_type": "execute_result"
    }
   ],
   "source": [
    "{k: y_.count(k) for k in y2idx.values()}"
   ]
  },
  {
   "cell_type": "code",
   "execution_count": 89,
   "metadata": {},
   "outputs": [
    {
     "data": {
      "text/plain": [
       "('11.8', True, 'NVIDIA GeForce GTX 1650')"
      ]
     },
     "execution_count": 89,
     "metadata": {},
     "output_type": "execute_result"
    }
   ],
   "source": [
    "import torch\n",
    "import torch.nn as nn\n",
    "from torch.utils.data import TensorDataset, DataLoader\n",
    "\n",
    "torch.cuda_version, torch.cuda.is_available(), torch.cuda.get_device_name(torch.cuda.current_device())"
   ]
  },
  {
   "cell_type": "code",
   "execution_count": 90,
   "metadata": {},
   "outputs": [
    {
     "data": {
      "text/plain": [
       "(torch.Size([30000, 194]), torch.Size([30000]))"
      ]
     },
     "execution_count": 90,
     "metadata": {},
     "output_type": "execute_result"
    }
   ],
   "source": [
    "X = nn.utils.rnn.pad_sequence([\n",
    "    torch.tensor(x, dtype=torch.int64) for x in X_\n",
    "], padding_value=voc_len).T  # batch first?\n",
    "Y = torch.tensor(y_, dtype=torch.int64)\n",
    "\n",
    "X.shape, Y.shape"
   ]
  },
  {
   "cell_type": "code",
   "execution_count": 91,
   "metadata": {},
   "outputs": [
    {
     "data": {
      "text/plain": [
       "(torch.Size([20100, 194]),\n",
       " torch.Size([9900, 194]),\n",
       " torch.Size([20100]),\n",
       " torch.Size([9900]))"
      ]
     },
     "execution_count": 91,
     "metadata": {},
     "output_type": "execute_result"
    }
   ],
   "source": [
    "X_train, X_test, y_train, y_test = train_test_split(X, Y, test_size=0.33, stratify=Y)\n",
    "X_train.shape, X_test.shape, y_train.shape, y_test.shape"
   ]
  },
  {
   "cell_type": "code",
   "execution_count": 92,
   "metadata": {},
   "outputs": [],
   "source": [
    "X_train = X_train.cuda()\n",
    "X_test = X_test.cuda()\n",
    "y_train = y_train.cuda()\n",
    "y_test = y_test.cuda()"
   ]
  },
  {
   "cell_type": "code",
   "execution_count": 93,
   "metadata": {},
   "outputs": [],
   "source": [
    "train_ds = TensorDataset(X_train, y_train)\n",
    "train_dl = DataLoader(train_ds, batch_size=1024, shuffle=True)"
   ]
  },
  {
   "cell_type": "markdown",
   "metadata": {},
   "source": [
    "## RNN"
   ]
  },
  {
   "cell_type": "code",
   "execution_count": 19,
   "metadata": {},
   "outputs": [],
   "source": [
    "class RNN(nn.Module):\n",
    "    def __init__(self, vocab_size, embedding_dim, hidden_size, n_layers, y_label_size) -> None:\n",
    "        super(RNN, self).__init__()\n",
    "        self.n_layers = n_layers\n",
    "        self.hidden_size = hidden_size\n",
    "        self.embedding = nn.Embedding(\n",
    "            num_embeddings=vocab_size,\n",
    "            embedding_dim=embedding_dim,\n",
    "        )\n",
    "        self.rnn = nn.RNN(\n",
    "            input_size=embedding_dim,\n",
    "            hidden_size=hidden_size,\n",
    "            num_layers=n_layers,\n",
    "            batch_first=True,\n",
    "        )\n",
    "        self.fc = nn.Sequential(\n",
    "            nn.Linear(hidden_size, y_label_size),\n",
    "        )\n",
    "\n",
    "    def forward(self, inputs):\n",
    "        y = self.embedding(inputs)\n",
    "\n",
    "        # h0 = torch.zeros(self.n_layers, inputs.size(0), self.hidden_size)\n",
    "        output, hidden = self.rnn(y)  #, h0)\n",
    "        y = self.fc(hidden[-1])  # == hidden[0]\n",
    "        return y"
   ]
  },
  {
   "cell_type": "code",
   "execution_count": 20,
   "metadata": {},
   "outputs": [
    {
     "data": {
      "text/plain": [
       "True"
      ]
     },
     "execution_count": 20,
     "metadata": {},
     "output_type": "execute_result"
    }
   ],
   "source": [
    "lr = 1e-3\n",
    "loss = nn.CrossEntropyLoss()\n",
    "rnn = RNN(voc_len + 1, 101, 99, 1, len(y2idx))\n",
    "optimizer = torch.optim.Adam(rnn.parameters(), lr=lr)\n",
    "\n",
    "rnn = rnn.cuda()\n",
    "all(param.is_cuda for param in rnn.parameters())"
   ]
  },
  {
   "cell_type": "code",
   "execution_count": 21,
   "metadata": {},
   "outputs": [],
   "source": [
    "epochs = 1"
   ]
  },
  {
   "cell_type": "code",
   "execution_count": 22,
   "metadata": {},
   "outputs": [
    {
     "name": "stdout",
     "output_type": "stream",
     "text": [
      "[RNN] Epoch 1...\n",
      "\tLoss value is 2.843.\n",
      "\tLoss value is 2.455.\n",
      "\tLoss value is 2.131.\n",
      "\tLoss value is 1.878.\n",
      "\tLoss value is 1.670.\n",
      "\tLoss value is 1.590.\n",
      "\tLoss value is 1.518.\n",
      "\tLoss value is 1.461.\n",
      "\tLoss value is 1.403.\n",
      "\tLoss value is 1.417.\n",
      "\tLoss value is 1.407.\n",
      "\tLoss value is 1.433.\n",
      "\tLoss value is 1.350.\n",
      "\tLoss value is 1.425.\n",
      "\tLoss value is 1.401.\n",
      "\tLoss value is 1.403.\n",
      "\tLoss value is 1.429.\n",
      "\tLoss value is 1.367.\n",
      "\tLoss value is 1.407.\n",
      "\tLoss value is 1.378.\n"
     ]
    }
   ],
   "source": [
    "for epoch in range(epochs):\n",
    "    print(f'[RNN] Epoch {epoch + 1}...')\n",
    "    for x_b, y_b in train_dl:\n",
    "        outputs = rnn(x_b)\n",
    "        loss_value = loss(outputs, y_b)\n",
    "        print(f'\\tLoss value is {loss_value:.3f}.')\n",
    "        optimizer.zero_grad()\n",
    "        loss_value.backward()\n",
    "        optimizer.step()"
   ]
  },
  {
   "cell_type": "code",
   "execution_count": 23,
   "metadata": {},
   "outputs": [
    {
     "data": {
      "text/plain": [
       "[[Parameter containing:\n",
       "  tensor([[-0.0695,  0.0641,  0.0638,  ...,  0.0905,  0.0281,  0.0192],\n",
       "          [-0.0019, -0.0058,  0.0822,  ...,  0.0877, -0.0696, -0.0730],\n",
       "          [-0.0820, -0.0734, -0.0119,  ..., -0.0146, -0.1054, -0.0108],\n",
       "          ...,\n",
       "          [ 0.0174, -0.0964, -0.0367,  ..., -0.0646, -0.0618, -0.0446],\n",
       "          [ 0.0074,  0.0738, -0.0568,  ...,  0.0154, -0.0882, -0.0773],\n",
       "          [-0.0666,  0.0023, -0.0398,  ...,  0.0178, -0.0827, -0.0710]],\n",
       "         device='cuda:0', requires_grad=True),\n",
       "  Parameter containing:\n",
       "  tensor([[-0.0481,  0.0082,  0.0131,  ...,  0.0259, -0.0223,  0.0180],\n",
       "          [-0.0055, -0.0768,  0.0613,  ..., -0.0817,  0.0001, -0.0699],\n",
       "          [ 0.0957,  0.0357,  0.1039,  ..., -0.0756, -0.1048,  0.0305],\n",
       "          ...,\n",
       "          [-0.0601, -0.0226, -0.0349,  ..., -0.0015,  0.0306, -0.0440],\n",
       "          [ 0.0174, -0.0453, -0.0479,  ..., -0.0114,  0.1047,  0.0585],\n",
       "          [ 0.0519,  0.0569, -0.0818,  ...,  0.0151, -0.0269, -0.0164]],\n",
       "         device='cuda:0', requires_grad=True),\n",
       "  Parameter containing:\n",
       "  tensor([ 0.0792,  0.0954, -0.0799,  0.0613, -0.0560, -0.0666, -0.0234, -0.0394,\n",
       "          -0.0739, -0.0905, -0.0081,  0.0033,  0.0051,  0.0067, -0.0848, -0.0608,\n",
       "          -0.0303, -0.0341, -0.0821, -0.0256,  0.0543, -0.0025, -0.0960, -0.0562,\n",
       "           0.0560, -0.0635,  0.0814, -0.0764, -0.1010, -0.0751, -0.0771, -0.0093,\n",
       "          -0.0427, -0.0132, -0.0785,  0.0781,  0.0680, -0.0212, -0.0710, -0.0512,\n",
       "           0.0175,  0.0073,  0.0889,  0.0611, -0.0874,  0.0707, -0.0699, -0.0282,\n",
       "           0.1082,  0.0003, -0.0211, -0.0438, -0.0790, -0.0059,  0.0049,  0.0138,\n",
       "          -0.0435,  0.0884, -0.0281, -0.0517, -0.0228, -0.0633, -0.0127, -0.0630,\n",
       "          -0.0864,  0.0288, -0.0889,  0.0630, -0.0644, -0.0275, -0.0883,  0.0476,\n",
       "          -0.0419,  0.0346, -0.0688, -0.0134, -0.0572, -0.0160, -0.0150, -0.0009,\n",
       "          -0.0180,  0.0043,  0.0762,  0.0341,  0.0141,  0.0647, -0.0957, -0.0320,\n",
       "           0.0101,  0.0483,  0.0956, -0.0269, -0.0510,  0.0017,  0.0611, -0.0211,\n",
       "           0.0506,  0.0458,  0.0365], device='cuda:0', requires_grad=True),\n",
       "  Parameter containing:\n",
       "  tensor([ 0.0282,  0.0859,  0.0116,  0.0374, -0.0868,  0.0693,  0.0464, -0.0747,\n",
       "           0.0224,  0.0207, -0.0458, -0.0886,  0.0632, -0.0838, -0.0093,  0.0812,\n",
       "          -0.0071, -0.0374,  0.0494,  0.0885,  0.1087, -0.0550, -0.0393,  0.0301,\n",
       "           0.0641, -0.0383,  0.0542,  0.0616,  0.0694, -0.0930,  0.0732,  0.0016,\n",
       "           0.0040, -0.0040,  0.0426, -0.0670,  0.0884, -0.0114,  0.0098,  0.0895,\n",
       "          -0.0403, -0.0651, -0.0667,  0.0355, -0.0214, -0.0306,  0.0683,  0.0608,\n",
       "          -0.0326,  0.0539, -0.0824, -0.0287, -0.0296,  0.0137, -0.0190,  0.0402,\n",
       "           0.0148, -0.1094,  0.0264, -0.0369,  0.0234, -0.1002,  0.0404, -0.0406,\n",
       "          -0.0632, -0.0740, -0.1003, -0.0036, -0.0745, -0.0884, -0.0487,  0.0542,\n",
       "           0.0290,  0.0064, -0.0036, -0.0540,  0.0728,  0.0825,  0.0498,  0.0878,\n",
       "           0.0458,  0.0302, -0.0515,  0.0032,  0.0871, -0.0647, -0.0611,  0.0969,\n",
       "           0.1005, -0.0143,  0.0723,  0.0640,  0.0660,  0.0013, -0.0301,  0.0666,\n",
       "           0.0825, -0.0340,  0.0665], device='cuda:0', requires_grad=True)]]"
      ]
     },
     "execution_count": 23,
     "metadata": {},
     "output_type": "execute_result"
    }
   ],
   "source": [
    "rnn.rnn.all_weights"
   ]
  },
  {
   "cell_type": "code",
   "execution_count": 24,
   "metadata": {},
   "outputs": [
    {
     "data": {
      "text/plain": [
       "[torch.Size([99, 101]),\n",
       " torch.Size([99, 99]),\n",
       " torch.Size([99]),\n",
       " torch.Size([99])]"
      ]
     },
     "execution_count": 24,
     "metadata": {},
     "output_type": "execute_result"
    }
   ],
   "source": [
    "[w.shape for w in rnn.rnn.all_weights[0]]"
   ]
  },
  {
   "attachments": {
    "image.png": {
     "image/png": "[encoded data removed]"
    }
   },
   "cell_type": "markdown",
   "metadata": {},
   "source": [
    "![image.png](attachment:image.png)"
   ]
  },
  {
   "cell_type": "code",
   "execution_count": 25,
   "metadata": {},
   "outputs": [
    {
     "data": {
      "text/plain": [
       "Parameter containing:\n",
       "tensor([[-0.0481,  0.0082,  0.0131,  ...,  0.0259, -0.0223,  0.0180],\n",
       "        [-0.0055, -0.0768,  0.0613,  ..., -0.0817,  0.0001, -0.0699],\n",
       "        [ 0.0957,  0.0357,  0.1039,  ..., -0.0756, -0.1048,  0.0305],\n",
       "        ...,\n",
       "        [-0.0601, -0.0226, -0.0349,  ..., -0.0015,  0.0306, -0.0440],\n",
       "        [ 0.0174, -0.0453, -0.0479,  ..., -0.0114,  0.1047,  0.0585],\n",
       "        [ 0.0519,  0.0569, -0.0818,  ...,  0.0151, -0.0269, -0.0164]],\n",
       "       device='cuda:0', requires_grad=True)"
      ]
     },
     "execution_count": 25,
     "metadata": {},
     "output_type": "execute_result"
    }
   ],
   "source": [
    "rnn.rnn.all_weights[0][1]  # ? брать [-1]? Тогда doc2vec = vector[100]  # Или перемножать матрицы с входом. Или output / h_n?\n",
    "# hidden = doc2vec"
   ]
  },
  {
   "cell_type": "code",
   "execution_count": 26,
   "metadata": {},
   "outputs": [
    {
     "data": {
      "text/plain": [
       "torch.Size([99, 99])"
      ]
     },
     "execution_count": 26,
     "metadata": {},
     "output_type": "execute_result"
    }
   ],
   "source": [
    "rnn.rnn.all_weights[0][1].shape"
   ]
  },
  {
   "cell_type": "code",
   "execution_count": 158,
   "metadata": {},
   "outputs": [
    {
     "data": {
      "text/plain": [
       "tensor([[-1.1797, -1.2780,  0.1849, -0.5420, -0.9602, -0.8028,  3.1516, -1.5414,\n",
       "         -1.1681, -0.6011, -1.3642, -0.1670,  2.5733, -1.4636, -1.7002],\n",
       "        [-1.1797, -1.2780,  0.1849, -0.5420, -0.9602, -0.8028,  3.1516, -1.5414,\n",
       "         -1.1681, -0.6011, -1.3642, -0.1670,  2.5733, -1.4636, -1.7002],\n",
       "        [-1.1797, -1.2780,  0.1849, -0.5420, -0.9602, -0.8028,  3.1516, -1.5414,\n",
       "         -1.1681, -0.6011, -1.3642, -0.1670,  2.5733, -1.4636, -1.7002],\n",
       "        [-1.1797, -1.2780,  0.1849, -0.5420, -0.9602, -0.8028,  3.1516, -1.5414,\n",
       "         -1.1681, -0.6011, -1.3642, -0.1670,  2.5733, -1.4636, -1.7002],\n",
       "        [-1.1797, -1.2780,  0.1849, -0.5420, -0.9602, -0.8028,  3.1516, -1.5414,\n",
       "         -1.1681, -0.6011, -1.3642, -0.1670,  2.5733, -1.4636, -1.7002]],\n",
       "       device='cuda:0', grad_fn=<AddmmBackward0>)"
      ]
     },
     "execution_count": 158,
     "metadata": {},
     "output_type": "execute_result"
    }
   ],
   "source": [
    "rnn(X_test[:5])"
   ]
  },
  {
   "cell_type": "code",
   "execution_count": 35,
   "metadata": {},
   "outputs": [],
   "source": [
    "from sklearn.metrics import classification_report\n",
    "\n",
    "\n",
    "seq = nn.Sequential(\n",
    "    # nn.Linear(y_voc_len, y_voc_len),\n",
    "    nn.Softmax(),\n",
    ").cuda()\n",
    "\n",
    "y_pred = torch.argmax(seq(rnn(X_test[:500])), dim=1)\n",
    "\n",
    "print(classification_report(\n",
    "    y_pred.cpu().detach().numpy(),\n",
    "    y_test[:500].cpu().detach().numpy(),\n",
    "))"
   ]
  },
  {
   "cell_type": "markdown",
   "metadata": {},
   "source": [
    "## LSTM"
   ]
  },
  {
   "cell_type": "code",
   "execution_count": 41,
   "metadata": {},
   "outputs": [],
   "source": [
    "class LSTM(nn.Module):\n",
    "    def __init__(self, vocab_size, embedding_dim, hidden_size, n_layers, y_label_size) -> None:\n",
    "        super(LSTM, self).__init__()\n",
    "        self.n_layers = n_layers\n",
    "        self.hidden_size = hidden_size\n",
    "        self.embedding = nn.Embedding(\n",
    "            num_embeddings=vocab_size,\n",
    "            embedding_dim=embedding_dim,\n",
    "        )\n",
    "        self.lstm = nn.LSTM(\n",
    "            input_size=embedding_dim,\n",
    "            hidden_size=hidden_size,\n",
    "            num_layers=n_layers,\n",
    "            batch_first=True,\n",
    "        )\n",
    "        self.fc = nn.Linear(hidden_size, y_label_size)\n",
    "\n",
    "\n",
    "    def forward(self, inputs):\n",
    "        y = self.embedding(inputs)\n",
    "        output, (h_n, c_n) = self.lstm(y)\n",
    "        y = self.fc(h_n[0])\n",
    "        return y"
   ]
  },
  {
   "cell_type": "code",
   "execution_count": 42,
   "metadata": {},
   "outputs": [
    {
     "data": {
      "text/plain": [
       "True"
      ]
     },
     "execution_count": 42,
     "metadata": {},
     "output_type": "execute_result"
    }
   ],
   "source": [
    "lr = 1e-3\n",
    "loss = nn.CrossEntropyLoss()\n",
    "lstm = LSTM(voc_len + 1, 101, 99, 1, y_voc_len)\n",
    "optimizer = torch.optim.Adam(lstm.parameters(), lr=lr)\n",
    "\n",
    "lstm = lstm.cuda()\n",
    "all(param.is_cuda for param in lstm.parameters())"
   ]
  },
  {
   "cell_type": "code",
   "execution_count": 43,
   "metadata": {},
   "outputs": [],
   "source": [
    "epochs = 1"
   ]
  },
  {
   "cell_type": "code",
   "execution_count": 53,
   "metadata": {},
   "outputs": [
    {
     "name": "stdout",
     "output_type": "stream",
     "text": [
      "[LSTM] Epoch 1...\n",
      "\tLoss value is 1.404.\n",
      "\tLoss value is 1.395.\n",
      "\tLoss value is 1.401.\n",
      "\tLoss value is 1.392.\n",
      "\tLoss value is 1.397.\n",
      "\tLoss value is 1.372.\n",
      "\tLoss value is 1.378.\n",
      "\tLoss value is 1.426.\n",
      "\tLoss value is 1.418.\n",
      "\tLoss value is 1.434.\n",
      "\tLoss value is 1.411.\n",
      "\tLoss value is 1.389.\n",
      "\tLoss value is 1.397.\n",
      "\tLoss value is 1.433.\n",
      "\tLoss value is 1.331.\n",
      "\tLoss value is 1.402.\n",
      "\tLoss value is 1.405.\n",
      "\tLoss value is 1.388.\n",
      "\tLoss value is 1.387.\n",
      "\tLoss value is 1.375.\n"
     ]
    }
   ],
   "source": [
    "for epoch in range(epochs):\n",
    "    print(f'[LSTM] Epoch {epoch + 1}...')\n",
    "    for x_b, y_b in train_dl:\n",
    "        outputs = lstm(x_b)\n",
    "        loss_value = loss(outputs, y_b)\n",
    "        print(f'\\tLoss value is {loss_value:.3f}.')\n",
    "        optimizer.zero_grad()\n",
    "        loss_value.backward()\n",
    "        optimizer.step()"
   ]
  },
  {
   "cell_type": "code",
   "execution_count": 54,
   "metadata": {},
   "outputs": [
    {
     "data": {
      "text/plain": [
       "[torch.Size([396, 101]),\n",
       " torch.Size([396, 99]),\n",
       " torch.Size([396]),\n",
       " torch.Size([396])]"
      ]
     },
     "execution_count": 54,
     "metadata": {},
     "output_type": "execute_result"
    }
   ],
   "source": [
    "[w.shape for w in lstm.lstm.all_weights[0]]"
   ]
  },
  {
   "cell_type": "code",
   "execution_count": 55,
   "metadata": {},
   "outputs": [
    {
     "name": "stdout",
     "output_type": "stream",
     "text": [
      "              precision    recall  f1-score   support\n",
      "\n",
      "           0       0.00      0.00      0.00         2\n",
      "           1       0.00      0.00      0.00        11\n",
      "           2       0.00      0.00      0.00         3\n",
      "           3       0.00      0.00      0.00       127\n",
      "           4       0.00      0.00      0.00         7\n",
      "           5       0.00      0.00      0.00         2\n",
      "           6       0.00      0.00      0.00         1\n",
      "           7       0.57      1.00      0.72       283\n",
      "           8       0.00      0.00      0.00        17\n",
      "           9       0.00      0.00      0.00         6\n",
      "          10       0.00      0.00      0.00        17\n",
      "          11       0.00      0.00      0.00         3\n",
      "          12       0.00      0.00      0.00         1\n",
      "          13       0.00      0.00      0.00         2\n",
      "          14       0.00      0.00      0.00        18\n",
      "\n",
      "    accuracy                           0.57       500\n",
      "   macro avg       0.04      0.07      0.05       500\n",
      "weighted avg       0.32      0.57      0.41       500\n",
      "\n"
     ]
    },
    {
     "name": "stderr",
     "output_type": "stream",
     "text": [
      "c:\\Users\\podov\\Desktop\\Andrey\\Универ\\Обработка естественного языка\\5сем\\nlp-labs\\venv\\Lib\\site-packages\\torch\\nn\\modules\\container.py:217: UserWarning: Implicit dimension choice for softmax has been deprecated. Change the call to include dim=X as an argument.\n",
      "  input = module(input)\n",
      "c:\\Users\\podov\\Desktop\\Andrey\\Универ\\Обработка естественного языка\\5сем\\nlp-labs\\venv\\Lib\\site-packages\\sklearn\\metrics\\_classification.py:1469: UndefinedMetricWarning: Precision and F-score are ill-defined and being set to 0.0 in labels with no predicted samples. Use `zero_division` parameter to control this behavior.\n",
      "  _warn_prf(average, modifier, msg_start, len(result))\n",
      "c:\\Users\\podov\\Desktop\\Andrey\\Универ\\Обработка естественного языка\\5сем\\nlp-labs\\venv\\Lib\\site-packages\\sklearn\\metrics\\_classification.py:1469: UndefinedMetricWarning: Precision and F-score are ill-defined and being set to 0.0 in labels with no predicted samples. Use `zero_division` parameter to control this behavior.\n",
      "  _warn_prf(average, modifier, msg_start, len(result))\n",
      "c:\\Users\\podov\\Desktop\\Andrey\\Универ\\Обработка естественного языка\\5сем\\nlp-labs\\venv\\Lib\\site-packages\\sklearn\\metrics\\_classification.py:1469: UndefinedMetricWarning: Precision and F-score are ill-defined and being set to 0.0 in labels with no predicted samples. Use `zero_division` parameter to control this behavior.\n",
      "  _warn_prf(average, modifier, msg_start, len(result))\n"
     ]
    }
   ],
   "source": [
    "y_pred = torch.argmax(seq(lstm(X_test[:500])), dim=1)\n",
    "\n",
    "print(classification_report(\n",
    "    y_test[:500].cpu().detach().numpy(),\n",
    "    y_pred.cpu().detach().numpy(),\n",
    "))"
   ]
  },
  {
   "cell_type": "markdown",
   "metadata": {},
   "source": [
    "## GRU"
   ]
  },
  {
   "cell_type": "code",
   "execution_count": 57,
   "metadata": {},
   "outputs": [],
   "source": [
    "class GRU(nn.Module):\n",
    "    def __init__(self, vocab_size, embedding_dim, hidden_size, n_layers, y_label_size) -> None:\n",
    "        super(GRU, self).__init__()\n",
    "        self.n_layers = n_layers\n",
    "        self.hidden_size = hidden_size\n",
    "        self.embedding = nn.Embedding(\n",
    "            num_embeddings=vocab_size,\n",
    "            embedding_dim=embedding_dim,\n",
    "        )\n",
    "        self.gru = nn.GRU(\n",
    "            input_size=embedding_dim,\n",
    "            hidden_size=hidden_size,\n",
    "            num_layers=n_layers,\n",
    "            batch_first=True,\n",
    "        )\n",
    "        self.fc = nn.Linear(hidden_size, y_label_size)\n",
    "\n",
    "\n",
    "    def forward(self, inputs):\n",
    "        y = self.embedding(inputs)\n",
    "        output, h_n = self.gru(y)\n",
    "        y = self.fc(h_n[0])\n",
    "        return y"
   ]
  },
  {
   "cell_type": "code",
   "execution_count": 108,
   "metadata": {},
   "outputs": [
    {
     "data": {
      "text/plain": [
       "True"
      ]
     },
     "execution_count": 108,
     "metadata": {},
     "output_type": "execute_result"
    }
   ],
   "source": [
    "lr = 1e-3\n",
    "loss = nn.CrossEntropyLoss()\n",
    "gru = GRU(voc_len + 1, 256, 100, 2, y_voc_len)\n",
    "optimizer = torch.optim.Adam(gru.parameters(), lr=lr)\n",
    "scheduler = torch.optim.lr_scheduler.CosineAnnealingWarmRestarts(optimizer, T_0=5, T_mult=2)\n",
    "\n",
    "gru = gru.cuda()\n",
    "all(param.is_cuda for param in gru.parameters())"
   ]
  },
  {
   "cell_type": "code",
   "execution_count": 100,
   "metadata": {},
   "outputs": [],
   "source": [
    "epochs = 5"
   ]
  },
  {
   "cell_type": "code",
   "execution_count": 111,
   "metadata": {},
   "outputs": [
    {
     "name": "stdout",
     "output_type": "stream",
     "text": [
      "[GRU] Epoch 1...\n",
      "\tLoss value is 1.214.\n",
      "\tLoss value is 1.253.\n",
      "\tLoss value is 1.241.\n",
      "\tLoss value is 1.298.\n",
      "\tLoss value is 1.293.\n",
      "\tLoss value is 1.300.\n",
      "\tLoss value is 1.199.\n",
      "\tLoss value is 1.245.\n",
      "\tLoss value is 1.222.\n",
      "\tLoss value is 1.288.\n",
      "\tLoss value is 1.204.\n",
      "\tLoss value is 1.299.\n",
      "\tLoss value is 1.110.\n",
      "\tLoss value is 1.247.\n",
      "\tLoss value is 1.171.\n",
      "\tLoss value is 1.242.\n",
      "\tLoss value is 1.232.\n",
      "\tLoss value is 1.172.\n",
      "\tLoss value is 1.180.\n",
      "\tLoss value is 1.196.\n",
      "[GRU] Epoch 2...\n",
      "\tLoss value is 1.163.\n",
      "\tLoss value is 1.179.\n",
      "\tLoss value is 1.118.\n",
      "\tLoss value is 1.169.\n",
      "\tLoss value is 1.138.\n",
      "\tLoss value is 1.157.\n",
      "\tLoss value is 1.181.\n",
      "\tLoss value is 1.168.\n",
      "\tLoss value is 1.138.\n",
      "\tLoss value is 1.143.\n",
      "\tLoss value is 1.168.\n",
      "\tLoss value is 1.094.\n",
      "\tLoss value is 1.131.\n",
      "\tLoss value is 1.116.\n",
      "\tLoss value is 1.196.\n",
      "\tLoss value is 1.058.\n",
      "\tLoss value is 1.121.\n",
      "\tLoss value is 1.165.\n",
      "\tLoss value is 1.201.\n",
      "\tLoss value is 1.119.\n",
      "[GRU] Epoch 3...\n",
      "\tLoss value is 1.165.\n",
      "\tLoss value is 1.069.\n",
      "\tLoss value is 1.155.\n",
      "\tLoss value is 1.110.\n",
      "\tLoss value is 1.105.\n",
      "\tLoss value is 1.095.\n",
      "\tLoss value is 1.072.\n",
      "\tLoss value is 1.111.\n",
      "\tLoss value is 1.115.\n",
      "\tLoss value is 1.141.\n",
      "\tLoss value is 1.085.\n",
      "\tLoss value is 1.129.\n",
      "\tLoss value is 1.182.\n",
      "\tLoss value is 1.118.\n",
      "\tLoss value is 1.112.\n",
      "\tLoss value is 1.109.\n",
      "\tLoss value is 1.086.\n",
      "\tLoss value is 1.119.\n",
      "\tLoss value is 1.116.\n",
      "\tLoss value is 1.057.\n",
      "[GRU] Epoch 4...\n",
      "\tLoss value is 1.076.\n",
      "\tLoss value is 1.059.\n",
      "\tLoss value is 1.043.\n",
      "\tLoss value is 1.059.\n",
      "\tLoss value is 1.021.\n",
      "\tLoss value is 0.980.\n",
      "\tLoss value is 1.001.\n",
      "\tLoss value is 0.937.\n",
      "\tLoss value is 0.998.\n",
      "\tLoss value is 0.956.\n",
      "\tLoss value is 0.930.\n",
      "\tLoss value is 0.929.\n",
      "\tLoss value is 0.912.\n",
      "\tLoss value is 0.873.\n",
      "\tLoss value is 0.894.\n",
      "\tLoss value is 0.885.\n",
      "\tLoss value is 0.887.\n",
      "\tLoss value is 0.886.\n",
      "\tLoss value is 0.919.\n",
      "\tLoss value is 0.916.\n",
      "[GRU] Epoch 5...\n",
      "\tLoss value is 0.915.\n",
      "\tLoss value is 0.847.\n",
      "\tLoss value is 0.895.\n",
      "\tLoss value is 0.761.\n",
      "\tLoss value is 0.821.\n",
      "\tLoss value is 0.896.\n",
      "\tLoss value is 0.844.\n",
      "\tLoss value is 0.837.\n",
      "\tLoss value is 0.757.\n",
      "\tLoss value is 0.839.\n",
      "\tLoss value is 0.803.\n",
      "\tLoss value is 0.769.\n",
      "\tLoss value is 0.800.\n",
      "\tLoss value is 0.740.\n",
      "\tLoss value is 0.794.\n",
      "\tLoss value is 0.758.\n",
      "\tLoss value is 0.808.\n",
      "\tLoss value is 0.766.\n",
      "\tLoss value is 0.832.\n",
      "\tLoss value is 0.675.\n"
     ]
    }
   ],
   "source": [
    "for epoch in range(epochs):\n",
    "    print(f'[GRU] Epoch {epoch + 1}...')\n",
    "    for x_b, y_b in train_dl:\n",
    "        outputs = gru(x_b)\n",
    "        loss_value = loss(outputs, y_b)\n",
    "        print(f'\\tLoss value is {loss_value:.3f}.')\n",
    "        optimizer.zero_grad()\n",
    "        loss_value.backward()\n",
    "        optimizer.step()\n",
    "        scheduler.step()"
   ]
  },
  {
   "cell_type": "code",
   "execution_count": 72,
   "metadata": {},
   "outputs": [
    {
     "data": {
      "text/plain": [
       "[torch.Size([300, 256]),\n",
       " torch.Size([300, 100]),\n",
       " torch.Size([300]),\n",
       " torch.Size([300])]"
      ]
     },
     "execution_count": 72,
     "metadata": {},
     "output_type": "execute_result"
    }
   ],
   "source": [
    "[w.shape for w in gru.gru.all_weights[0]]"
   ]
  },
  {
   "cell_type": "code",
   "execution_count": 112,
   "metadata": {},
   "outputs": [
    {
     "name": "stderr",
     "output_type": "stream",
     "text": [
      "c:\\Users\\podov\\Desktop\\Andrey\\Универ\\Обработка естественного языка\\5сем\\nlp-labs\\venv\\Lib\\site-packages\\torch\\nn\\modules\\container.py:217: UserWarning: Implicit dimension choice for softmax has been deprecated. Change the call to include dim=X as an argument.\n",
      "  input = module(input)\n"
     ]
    },
    {
     "name": "stdout",
     "output_type": "stream",
     "text": [
      "              precision    recall  f1-score   support\n",
      "\n",
      "           0       0.00      0.00      0.00         0\n",
      "           1       0.00      0.00      0.00         0\n",
      "           2       0.00      0.00      0.00         0\n",
      "           3       0.00      0.00      0.00         0\n",
      "           4       0.00      0.00      0.00         0\n",
      "           5       0.41      1.00      0.58         9\n",
      "           6       0.88      0.66      0.75       156\n",
      "           7       0.00      0.00      0.00         0\n",
      "           8       0.00      0.00      0.00         0\n",
      "           9       0.00      0.00      0.00         0\n",
      "          10       0.00      0.00      0.00         0\n",
      "          11       0.00      0.00      0.00         0\n",
      "          12       0.00      0.00      0.00         0\n",
      "          13       0.00      0.00      0.00         0\n",
      "          14       0.98      0.86      0.91       335\n",
      "\n",
      "    accuracy                           0.80       500\n",
      "   macro avg       0.15      0.17      0.15       500\n",
      "weighted avg       0.94      0.80      0.86       500\n",
      "\n"
     ]
    },
    {
     "name": "stderr",
     "output_type": "stream",
     "text": [
      "c:\\Users\\podov\\Desktop\\Andrey\\Универ\\Обработка естественного языка\\5сем\\nlp-labs\\venv\\Lib\\site-packages\\sklearn\\metrics\\_classification.py:1469: UndefinedMetricWarning: Recall and F-score are ill-defined and being set to 0.0 in labels with no true samples. Use `zero_division` parameter to control this behavior.\n",
      "  _warn_prf(average, modifier, msg_start, len(result))\n",
      "c:\\Users\\podov\\Desktop\\Andrey\\Универ\\Обработка естественного языка\\5сем\\nlp-labs\\venv\\Lib\\site-packages\\sklearn\\metrics\\_classification.py:1469: UndefinedMetricWarning: Recall and F-score are ill-defined and being set to 0.0 in labels with no true samples. Use `zero_division` parameter to control this behavior.\n",
      "  _warn_prf(average, modifier, msg_start, len(result))\n",
      "c:\\Users\\podov\\Desktop\\Andrey\\Универ\\Обработка естественного языка\\5сем\\nlp-labs\\venv\\Lib\\site-packages\\sklearn\\metrics\\_classification.py:1469: UndefinedMetricWarning: Recall and F-score are ill-defined and being set to 0.0 in labels with no true samples. Use `zero_division` parameter to control this behavior.\n",
      "  _warn_prf(average, modifier, msg_start, len(result))\n"
     ]
    }
   ],
   "source": [
    "y_pred = torch.argmax(seq(gru(X_test[:500])), dim=1)\n",
    "\n",
    "print(classification_report(\n",
    "    y_pred.cpu().detach().numpy(),\n",
    "    y_test[:500].cpu().detach().numpy(),\n",
    "))"
   ]
  }
 ],
 "metadata": {
  "kernelspec": {
   "display_name": "venv",
   "language": "python",
   "name": "python3"
  },
  "language_info": {
   "codemirror_mode": {
    "name": "ipython",
    "version": 3
   },
   "file_extension": ".py",
   "mimetype": "text/x-python",
   "name": "python",
   "nbconvert_exporter": "python",
   "pygments_lexer": "ipython3",
   "version": "3.11.5"
  },
  "orig_nbformat": 4
 },
 "nbformat": 4,
 "nbformat_minor": 2
}
